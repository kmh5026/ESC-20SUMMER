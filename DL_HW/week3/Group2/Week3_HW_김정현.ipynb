{
 "cells": [
  {
   "cell_type": "markdown",
   "metadata": {},
   "source": [
    "## 1번"
   ]
  },
  {
   "cell_type": "code",
   "execution_count": null,
   "metadata": {},
   "outputs": [],
   "source": [
    "x_padding=[[0,0,0,0,0,0,0,0],\n",
    "           [0,2,0,2,1,3,2,0],\n",
    "           [0,0,2,0,2,2,2,0],\n",
    "           [0,1,0,1,3,1,1,0],\n",
    "           [0,0,0,1,1,1,0,0],\n",
    "           [0,0,1,3,4,1,0,0],\n",
    "           [0,0,1,0,0,5,2,0],\n",
    "           [0,0,0,0,0,0,0,0]]\n",
    "\n",
    "answer_1=[[4,0,4,3,5,2],\n",
    "          [0,5,3,5,4,5],\n",
    "          [1,1,4,4,3,3],\n",
    "          [1,4,5,3,4,1],\n",
    "          [1,1,3,10,4,1],\n",
    "          [0,1,1,3,9,3]]\n",
    "\n",
    "answer_2=[[2,2,3,2],\n",
    "          [1,2,3,2],\n",
    "          [0,3,4,0],\n",
    "          [0,1,5,2]]"
   ]
  },
  {
   "cell_type": "markdown",
   "metadata": {},
   "source": [
    "## 2번\n",
    "1. Layer1의 Kernel size를 4로 늘리고, Layer3의 stride를 2로 늘려라\n",
    "2. Layer3의 Output size를 구하여라\n",
    "3. Cost와 accuracy가 기존 CNN모델에 비해 어떻게 변할 것인가?\n",
    "4. 코딩하여 cost와 accuracy를 확인해보자!"
   ]
  },
  {
   "cell_type": "markdown",
   "metadata": {},
   "source": [
    "## 정답"
   ]
  },
  {
   "cell_type": "markdown",
   "metadata": {},
   "source": [
    "- Layer 1\n",
    "    <br>\n",
    "    Convolution Layer:(in_c=1, out_c=32, kernel_size=4, stride=1, padding=1)\n",
    "    <br>\n",
    "    MaxPool Layer: (kernel_size=2, stride=2)\n",
    "    <br>\n",
    "    <br>\n",
    "- Layer 2\n",
    "    <br>\n",
    "    Convolution Layer:(in_c=32, out_c=64, kernel_size=3, stride=1, padding=1)\n",
    "    <br>\n",
    "    MaxPool Layer: (kernel_size=2, stride=2)\n",
    "    <br>\n",
    "    <br>\n",
    "- **Layer 3**\n",
    "    <br>\n",
    "    Convolution Layer:(in_c=64, out_c=128, kernel_size=3, stride=2, padding=1)\n",
    "    <br>\n",
    "    MaxPool Layer: (kernel_size=2, stride=2)\n",
    "    <br>\n",
    "    <br>\n",
    "\n",
    "- view\n",
    "    <br>\n",
    "    batch_size x [1,1,128] $\\Rightarrow$ batch_size x[128]\n",
    "    <br>\n",
    "    <br>\n",
    "\n",
    "- **Layer 4**\n",
    "    <br>\n",
    "    Fully Connected Layer:(in_c=1*1*128, out_c=625)\n",
    "    <br>\n",
    "    <br>\n",
    "    \n",
    "- **Layer 5**\n",
    "    <br>\n",
    "    Fully Connected Layer:(in_c=625, out_c=10)"
   ]
  },
  {
   "cell_type": "code",
   "execution_count": 1,
   "metadata": {},
   "outputs": [],
   "source": [
    "import torch\n",
    "import torchvision.datasets as dsets\n",
    "import torchvision.transforms as transforms\n",
    "import torch.nn.init\n",
    "import torch.nn as nn"
   ]
  },
  {
   "cell_type": "code",
   "execution_count": 2,
   "metadata": {},
   "outputs": [],
   "source": [
    "device = 'cuda' if torch.cuda.is_available() else 'cpu'\n",
    "\n",
    "# for reproducibility\n",
    "torch.manual_seed(777)\n",
    "if device == 'cuda':\n",
    "    torch.cuda.manual_seed_all(777)"
   ]
  },
  {
   "cell_type": "code",
   "execution_count": 3,
   "metadata": {},
   "outputs": [],
   "source": [
    "# parameters\n",
    "learning_rate = 0.001\n",
    "training_epochs = 15\n",
    "batch_size = 100"
   ]
  },
  {
   "cell_type": "code",
   "execution_count": 4,
   "metadata": {},
   "outputs": [],
   "source": [
    "#MNIST dataset\n",
    "mnist_train = dsets.MNIST(root='MNIST_data/',\n",
    "                          train=True,\n",
    "                          transform=transforms.ToTensor(),\n",
    "                          download=True)\n",
    "\n",
    "mnist_test = dsets.MNIST(root='MNIST_data/',\n",
    "                         train=False,\n",
    "                         transform=transforms.ToTensor(),\n",
    "                         download=True)"
   ]
  },
  {
   "cell_type": "code",
   "execution_count": 5,
   "metadata": {},
   "outputs": [],
   "source": [
    "# dataset loader\n",
    "data_loader = torch.utils.data.DataLoader(dataset=mnist_train,\n",
    "                                          batch_size=batch_size,\n",
    "                                          shuffle=True,\n",
    "                                          drop_last=True)"
   ]
  },
  {
   "cell_type": "code",
   "execution_count": 6,
   "metadata": {},
   "outputs": [],
   "source": [
    "# CNN Model\n",
    "class CNN(torch.nn.Module):\n",
    "\n",
    "    def __init__(self):\n",
    "        super(CNN, self).__init__()        \n",
    "        self.layer1 = nn.Sequential(\n",
    "            nn.Conv2d(1, 32, kernel_size=4, stride=1, padding=1),\n",
    "            nn.ReLU(),\n",
    "            nn.MaxPool2d(2))\n",
    "        #outputsize=13\n",
    "        \n",
    "        self.layer2 = nn.Sequential(\n",
    "            torch.nn.Conv2d(32, 64, kernel_size=3, stride=1, padding=1),\n",
    "            torch.nn.ReLU(),\n",
    "            torch.nn.MaxPool2d(2))\n",
    "        \n",
    "        #outputsize=6\n",
    "    \n",
    "        self.layer3 = nn.Sequential(\n",
    "            nn.Conv2d(64, 128, kernel_size=3, stride=2, padding=1),\n",
    "            nn.ReLU(),\n",
    "            torch.nn.MaxPool2d(2))\n",
    "\n",
    "        #outputsize=1\n",
    "        \n",
    "        self.fc1 = torch.nn.Linear(1 * 1 * 128, 625)\n",
    "        self.relu = torch.nn.ReLU()\n",
    "        self.fc2 = torch.nn.Linear(625, 10, bias=True)\n",
    "        torch.nn.init.xavier_uniform_(self.fc1.weight)\n",
    "        torch.nn.init.xavier_uniform_(self.fc2.weight)\n",
    "\n",
    "    def forward(self, x):\n",
    "        out = self.layer1(x)\n",
    "        out = self.layer2(out)\n",
    "        out = self.layer3(out)\n",
    "        \n",
    "        out = out.view(out.size(0), -1)   # Flatten them for FC\n",
    "        out = self.fc1(out)\n",
    "        out = self.relu(out)\n",
    "        out = self.fc2(out)\n",
    "        return out"
   ]
  },
  {
   "cell_type": "code",
   "execution_count": 7,
   "metadata": {},
   "outputs": [
    {
     "name": "stdout",
     "output_type": "stream",
     "text": [
      "torch.Size([1, 10])\n"
     ]
    }
   ],
   "source": [
    "# instantiate CNN model\n",
    "model = CNN().to(device)\n",
    "\n",
    "value=(torch.Tensor(1,1,28,28)).to(device)\n",
    "print( (model(value)).shape ) #임의의 value값을 넣어 test!"
   ]
  },
  {
   "cell_type": "code",
   "execution_count": 8,
   "metadata": {},
   "outputs": [],
   "source": [
    "# define cost/loss & optimizer\n",
    "criterion = nn.CrossEntropyLoss().to(device)    # Softmax is internally computed.\n",
    "optimizer = torch.optim.Adam(model.parameters(), lr=learning_rate)"
   ]
  },
  {
   "cell_type": "code",
   "execution_count": 9,
   "metadata": {},
   "outputs": [
    {
     "name": "stdout",
     "output_type": "stream",
     "text": [
      "Learning started. It takes sometime.\n",
      "[Epoch:    1] cost = 0.304485738\n",
      "[Epoch:    2] cost = 0.106414095\n",
      "[Epoch:    3] cost = 0.0813134015\n",
      "[Epoch:    4] cost = 0.0647909269\n",
      "[Epoch:    5] cost = 0.0548969656\n",
      "[Epoch:    6] cost = 0.0465635657\n",
      "[Epoch:    7] cost = 0.0384750813\n",
      "[Epoch:    8] cost = 0.0341844857\n",
      "[Epoch:    9] cost = 0.0297093503\n",
      "[Epoch:   10] cost = 0.0275054481\n",
      "[Epoch:   11] cost = 0.0228632726\n",
      "[Epoch:   12] cost = 0.0208994225\n",
      "[Epoch:   13] cost = 0.0162081141\n",
      "[Epoch:   14] cost = 0.0175381638\n",
      "[Epoch:   15] cost = 0.0165862199\n",
      "Learning Finished!\n"
     ]
    }
   ],
   "source": [
    "# train my model\n",
    "total_batch = len(data_loader)\n",
    "model.train()    # set the model to train mode (dropout=True)\n",
    "print('Learning started. It takes sometime.')\n",
    "for epoch in range(training_epochs):\n",
    "    avg_cost = 0\n",
    "\n",
    "    for X, Y in data_loader:\n",
    "        # image is already size of (28x28), no reshape\n",
    "        # label is not one-hot encoded\n",
    "        X = X.to(device)\n",
    "        Y = Y.to(device)\n",
    "\n",
    "        optimizer.zero_grad()\n",
    "        hypothesis = model(X)\n",
    "        cost = criterion(hypothesis, Y)\n",
    "        cost.backward()\n",
    "        optimizer.step()\n",
    "\n",
    "        avg_cost += cost / total_batch\n",
    "\n",
    "    print('[Epoch: {:>4}] cost = {:>.9}'.format(epoch + 1, avg_cost))\n",
    "\n",
    "print('Learning Finished!')"
   ]
  },
  {
   "cell_type": "code",
   "execution_count": 10,
   "metadata": {},
   "outputs": [
    {
     "name": "stderr",
     "output_type": "stream",
     "text": [
      "C:\\anaconda\\lib\\site-packages\\torchvision\\datasets\\mnist.py:60: UserWarning: test_data has been renamed data\n",
      "  warnings.warn(\"test_data has been renamed data\")\n",
      "C:\\anaconda\\lib\\site-packages\\torchvision\\datasets\\mnist.py:50: UserWarning: test_labels has been renamed targets\n",
      "  warnings.warn(\"test_labels has been renamed targets\")\n"
     ]
    },
    {
     "name": "stdout",
     "output_type": "stream",
     "text": [
      "Accuracy: 0.8935999870300293\n"
     ]
    }
   ],
   "source": [
    "# Test model and check accuracy\n",
    "with torch.no_grad():\n",
    "    model.eval()    # set the model to evaluation mode (dropout=False)\n",
    "\n",
    "    X_test = mnist_test.test_data.view(len(mnist_test), 1, 28, 28).float().to(device)\n",
    "    Y_test = mnist_test.test_labels.to(device)\n",
    "\n",
    "    prediction = model(X_test)\n",
    "    correct_prediction = torch.argmax(prediction, 1) == Y_test\n",
    "    accuracy = correct_prediction.float().mean()\n",
    "    print('Accuracy:', accuracy.item())"
   ]
  }
 ],
 "metadata": {
  "kernelspec": {
   "display_name": "Python 3",
   "language": "python",
   "name": "python3"
  },
  "language_info": {
   "codemirror_mode": {
    "name": "ipython",
    "version": 3
   },
   "file_extension": ".py",
   "mimetype": "text/x-python",
   "name": "python",
   "nbconvert_exporter": "python",
   "pygments_lexer": "ipython3",
   "version": "3.7.6"
  }
 },
 "nbformat": 4,
 "nbformat_minor": 4
}
