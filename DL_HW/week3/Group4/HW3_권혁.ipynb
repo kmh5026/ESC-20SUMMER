{
 "cells": [
  {
   "cell_type": "markdown",
   "metadata": {},
   "source": [
    "### 1번"
   ]
  },
  {
   "cell_type": "code",
   "execution_count": 47,
   "metadata": {},
   "outputs": [],
   "source": [
    "# input 정의 + padding, filter 정의\n",
    "\n",
    "import numpy as np\n",
    "inputs = np.array([[2,0,2,1,3,2],[0,2,0,2,2,2],[1,0,1,3,1,1],[0,0,1,1,1,0],[0,1,3,4,1,0],[0,1,0,0,5,2]])\n",
    "inputs_pad = np.pad(inputs, pad_width = 1, mode = 'constant', constant_values = 0)\n",
    "filter_ = np.array([[1,0,0],[0,1,0],[0,0,1]])"
   ]
  },
  {
   "cell_type": "code",
   "execution_count": 51,
   "metadata": {},
   "outputs": [
    {
     "data": {
      "text/plain": [
       "array([[ 4,  0,  4,  3,  5,  2],\n",
       "       [ 0,  5,  3,  5,  4,  5],\n",
       "       [ 1,  1,  4,  4,  3,  3],\n",
       "       [ 1,  4,  5,  3,  4,  1],\n",
       "       [ 1,  1,  3, 10,  4,  1],\n",
       "       [ 0,  1,  1,  3,  9,  3]])"
      ]
     },
     "execution_count": 51,
     "metadata": {},
     "output_type": "execute_result"
    }
   ],
   "source": [
    "# convolution\n",
    "\n",
    "row = inputs_pad.shape[0] - filter_.shape[0] + 1\n",
    "col = inputs_pad.shape[1] - filter_.shape[1] + 1\n",
    "\n",
    "feature_map = []\n",
    "\n",
    "for rn in range(row):\n",
    "    for cn in range(col):\n",
    "        result1 = inputs_pad[rn:rn+filter_.shape[0], cn:cn+filter_.shape[1]] * filter_\n",
    "        feature_map.append(np.sum(result1))\n",
    "\n",
    "feature_map = np.array(result).reshape(row,col)\n",
    "feature_map"
   ]
  },
  {
   "cell_type": "code",
   "execution_count": 74,
   "metadata": {},
   "outputs": [],
   "source": [
    "# max pooling 하는 함수 정의\n",
    "\n",
    "def max_pooling(x, stride):\n",
    "    mp =[]\n",
    "    for i in range(0,len(x)-1,stride):\n",
    "        for j in range(0,len(x)-1,stride):\n",
    "            mp.append(np.max(x[i:i+stride, j:j+stride]))\n",
    "    \n",
    "    mp = np.array(mp)\n",
    "    return mp.reshape(stride+1, stride+1)"
   ]
  },
  {
   "cell_type": "code",
   "execution_count": 75,
   "metadata": {},
   "outputs": [
    {
     "data": {
      "text/plain": [
       "array([[ 5,  5,  5],\n",
       "       [ 4,  5,  4],\n",
       "       [ 1, 10,  9]])"
      ]
     },
     "execution_count": 75,
     "metadata": {},
     "output_type": "execute_result"
    }
   ],
   "source": [
    "# max pooling 결과\n",
    "\n",
    "max_pooling(feature_map,2)"
   ]
  },
  {
   "cell_type": "markdown",
   "metadata": {},
   "source": [
    "## 2번 기존 코드"
   ]
  },
  {
   "cell_type": "code",
   "execution_count": 16,
   "metadata": {},
   "outputs": [],
   "source": [
    "import torch\n",
    "import torchvision.datasets as dsets\n",
    "import torchvision.transforms as transforms\n",
    "import torch.nn.init"
   ]
  },
  {
   "cell_type": "code",
   "execution_count": 17,
   "metadata": {},
   "outputs": [],
   "source": [
    "# GPU 사용설정, seed 설정\n",
    "\n",
    "device = 'cuda' if torch.cuda.is_available() else 'cpu'\n",
    "\n",
    "torch.manual_seed(777)\n",
    "if device == 'cuda':\n",
    "    torch.cuda.manual_seed_all(777)"
   ]
  },
  {
   "cell_type": "code",
   "execution_count": 18,
   "metadata": {},
   "outputs": [],
   "source": [
    "# parameter 설정\n",
    "\n",
    "learning_rate = 0.001\n",
    "training_epochs = 15\n",
    "batch_size = 100"
   ]
  },
  {
   "cell_type": "code",
   "execution_count": 19,
   "metadata": {},
   "outputs": [],
   "source": [
    "# dataset 가져오기\n",
    "\n",
    "mnist_train = dsets.MNIST(root = 'MNIST_data/',\n",
    "                          train = True,\n",
    "                          transform = transforms.ToTensor(),\n",
    "                          download = False)\n",
    "\n",
    "mnist_test = dsets.MNIST(root = 'MNIST_data/',\n",
    "                         train = False,\n",
    "                         transform = transforms.ToTensor(),\n",
    "                         download = False)"
   ]
  },
  {
   "cell_type": "code",
   "execution_count": 20,
   "metadata": {},
   "outputs": [],
   "source": [
    "# dataset loader \n",
    "\n",
    "data_loader = torch.utils.data.DataLoader(dataset = mnist_train,\n",
    "                                     batch_size = batch_size,\n",
    "                                     shuffle = True,\n",
    "                                     drop_last = True)"
   ]
  },
  {
   "cell_type": "code",
   "execution_count": 21,
   "metadata": {},
   "outputs": [],
   "source": [
    "# CNN model \n",
    "\n",
    "class CNN(torch.nn.Module):\n",
    "    \n",
    "    def __init__(self):\n",
    "        super(CNN, self).__init__()\n",
    "        self.keep_prob = 0.5\n",
    "\n",
    "        self.layer1 = torch.nn.Sequential(\n",
    "            torch.nn.Conv2d(1, 32, kernel_size = 3, stride = 1, padding=1),\n",
    "            torch.nn.ReLU(),\n",
    "            torch.nn.MaxPool2d(kernel_size = 2, stride = 2))\n",
    "        \n",
    "    \n",
    "        self.layer2 = torch.nn.Sequential(\n",
    "            torch.nn.Conv2d(32, 64, kernel_size = 3, stride = 1, padding=1),\n",
    "            torch.nn.ReLU(),\n",
    "            torch.nn.MaxPool2d(kernel_size = 2, stride = 2))\n",
    "\n",
    "        self.layer3 = torch.nn.Sequential(\n",
    "            torch.nn.Conv2d(64, 128, kernel_size = 3, stride = 1, padding=1),\n",
    "            torch.nn.ReLU(),\n",
    "            torch.nn.MaxPool2d(kernel_size = 2, stride = 2, padding = 1))\n",
    "            \n",
    "        self.fc1 = torch.nn.Linear(4*4*128, 625 ,bias = True)\n",
    "        torch.nn.init.xavier_uniform_(self.fc1.weight)\n",
    "        \n",
    "        self.layer4 = torch.nn.Sequential(\n",
    "            self.fc1,\n",
    "            torch.nn.ReLU(),\n",
    "            torch.nn.Dropout(p = 1 - self.keep_prob))\n",
    "            \n",
    "        self.fc2 = torch.nn.Linear(625, 10 ,bias = True)\n",
    "        torch.nn.init.xavier_uniform_(self.fc2.weight)\n",
    "    \n",
    "    def forward(self,x):\n",
    "        out = self.layer1(x)\n",
    "        out = self.layer2(out)\n",
    "        out = self.layer3(out)\n",
    "        out = out.view(out.size(0), -1)\n",
    "        out = self.layer4(out)\n",
    "        out = self.fc2(out)\n",
    "        return out\n",
    "\n"
   ]
  },
  {
   "cell_type": "code",
   "execution_count": 22,
   "metadata": {},
   "outputs": [],
   "source": [
    "model = CNN().to(device)"
   ]
  },
  {
   "cell_type": "code",
   "execution_count": 23,
   "metadata": {},
   "outputs": [],
   "source": [
    "criterion = torch.nn.CrossEntropyLoss().to(device)\n",
    "optimizer = torch.optim.Adam(model.parameters(), lr= learning_rate)"
   ]
  },
  {
   "cell_type": "code",
   "execution_count": 11,
   "metadata": {},
   "outputs": [
    {
     "name": "stdout",
     "output_type": "stream",
     "text": [
      "시간이 좀 걸림\n",
      "[Epoch:    1] cost = 0.18319194\n",
      "[Epoch:    2] cost = 0.0484953299\n",
      "[Epoch:    3] cost = 0.0339777395\n",
      "[Epoch:    4] cost = 0.0265932828\n",
      "[Epoch:    5] cost = 0.0222814288\n",
      "[Epoch:    6] cost = 0.0177897308\n",
      "[Epoch:    7] cost = 0.0158942658\n",
      "[Epoch:    8] cost = 0.0126739861\n",
      "[Epoch:    9] cost = 0.0135673871\n",
      "[Epoch:   10] cost = 0.0113147469\n",
      "[Epoch:   11] cost = 0.00921845715\n",
      "[Epoch:   12] cost = 0.00931776781\n",
      "[Epoch:   13] cost = 0.00696808565\n",
      "[Epoch:   14] cost = 0.00651066517\n",
      "[Epoch:   15] cost = 0.00822876394\n",
      "Learning finished\n"
     ]
    }
   ],
   "source": [
    "# 모델 학습\n",
    "\n",
    "total_batch = len(data_loader)\n",
    "print ('시간이 좀 걸림')\n",
    "for epoch in range(training_epochs):\n",
    "    avg_cost = 0\n",
    "    \n",
    "    for X, Y in data_loader:\n",
    "        X = X.to(device)\n",
    "        Y = Y.to(device)\n",
    "        \n",
    "        optimizer.zero_grad()\n",
    "        hypothesis = model(X)\n",
    "        cost = criterion(hypothesis, Y)\n",
    "        cost.backward()\n",
    "        optimizer.step()\n",
    "        \n",
    "        avg_cost += cost / total_batch\n",
    "        \n",
    "    print('[Epoch: {:>4}] cost = {:>.9}'.format(epoch + 1, avg_cost))\n",
    "print('Learning finished')"
   ]
  },
  {
   "cell_type": "code",
   "execution_count": 12,
   "metadata": {},
   "outputs": [
    {
     "name": "stderr",
     "output_type": "stream",
     "text": [
      "C:\\Users\\Hyuk\\anaconda3\\lib\\site-packages\\torchvision\\datasets\\mnist.py:60: UserWarning: test_data has been renamed data\n",
      "  warnings.warn(\"test_data has been renamed data\")\n",
      "C:\\Users\\Hyuk\\anaconda3\\lib\\site-packages\\torchvision\\datasets\\mnist.py:50: UserWarning: test_labels has been renamed targets\n",
      "  warnings.warn(\"test_labels has been renamed targets\")\n"
     ]
    },
    {
     "name": "stdout",
     "output_type": "stream",
     "text": [
      "Accuracy: 0.9661999940872192\n"
     ]
    }
   ],
   "source": [
    "# 모델 성능 확인\n",
    "\n",
    "with torch.no_grad():\n",
    "    X_test = mnist_test.test_data.view(len(mnist_test), 1, 28, 28).float().to(device)\n",
    "    Y_test =  mnist_test.test_labels.to(device)\n",
    "    \n",
    "    prediction = model(X_test)\n",
    "    correct_prediction = torch.argmax(prediction, 1) == Y_test\n",
    "    accuracy = correct_prediction.float().mean()\n",
    "    print('Accuracy:', accuracy.item())"
   ]
  },
  {
   "cell_type": "markdown",
   "metadata": {},
   "source": [
    "## 2번"
   ]
  },
  {
   "cell_type": "code",
   "execution_count": 1,
   "metadata": {},
   "outputs": [],
   "source": [
    "import torch\n",
    "import torchvision.datasets as dsets\n",
    "import torchvision.transforms as transforms\n",
    "import torch.nn.init"
   ]
  },
  {
   "cell_type": "code",
   "execution_count": 2,
   "metadata": {},
   "outputs": [],
   "source": [
    "# GPU 사용설정, seed 설정\n",
    "\n",
    "device = 'cuda' if torch.cuda.is_available() else 'cpu'\n",
    "\n",
    "torch.manual_seed(777)\n",
    "if device == 'cuda':\n",
    "    torch.cuda.manual_seed_all(777)"
   ]
  },
  {
   "cell_type": "code",
   "execution_count": 3,
   "metadata": {},
   "outputs": [],
   "source": [
    "# parameter 설정\n",
    "\n",
    "learning_rate = 0.001\n",
    "training_epochs = 15\n",
    "batch_size = 100"
   ]
  },
  {
   "cell_type": "code",
   "execution_count": 4,
   "metadata": {},
   "outputs": [],
   "source": [
    "# dataset 가져오기\n",
    "\n",
    "mnist_train = dsets.MNIST(root = 'MNIST_data/',\n",
    "                          train = True,\n",
    "                          transform = transforms.ToTensor(),\n",
    "                          download = False)\n",
    "\n",
    "mnist_test = dsets.MNIST(root = 'MNIST_data/',\n",
    "                         train = False,\n",
    "                         transform = transforms.ToTensor(),\n",
    "                         download = False)"
   ]
  },
  {
   "cell_type": "code",
   "execution_count": 5,
   "metadata": {},
   "outputs": [],
   "source": [
    "# dataset loader \n",
    "\n",
    "data_loader = torch.utils.data.DataLoader(dataset = mnist_train,\n",
    "                                     batch_size = batch_size,\n",
    "                                     shuffle = True,\n",
    "                                     drop_last = True)"
   ]
  },
  {
   "cell_type": "code",
   "execution_count": 10,
   "metadata": {},
   "outputs": [],
   "source": [
    "# CNN model \n",
    "\n",
    "class CNN2(torch.nn.Module):\n",
    "    \n",
    "    def __init__(self):\n",
    "        super(CNN2, self).__init__()\n",
    "        self.keep_prob = 0.5\n",
    "        \n",
    "        self.layer1 = torch.nn.Sequential(\n",
    "            torch.nn.Conv2d(1, 32, kernel_size = 4, stride = 1, padding=1),\n",
    "            torch.nn.ReLU(),\n",
    "            torch.nn.MaxPool2d(kernel_size = 2, stride = 2))\n",
    " \n",
    "        # L1 ImgIn shape=(?, 28, 28, 1)\n",
    "        #    Conv     -> (?, 27, 27, 32)\n",
    "        #    Pool     -> (?, 13, 13, 32)\n",
    "         \n",
    "        self.layer2 = torch.nn.Sequential(\n",
    "            torch.nn.Conv2d(32, 64, kernel_size = 3, stride = 1, padding=1),\n",
    "            torch.nn.ReLU(),\n",
    "            torch.nn.MaxPool2d(kernel_size = 2, stride = 2))\n",
    " \n",
    "        # L2 ImgIn shape=(?, 13, 13, 32)\n",
    "        #    Conv      ->(?, 13, 13, 64)\n",
    "        #    Pool      ->(?, 6, 6, 64)\n",
    " \n",
    "        self.layer3 = torch.nn.Sequential(\n",
    "            torch.nn.Conv2d(64, 128, kernel_size = 3, stride = 2, padding=1),\n",
    "            torch.nn.ReLU(),\n",
    "            torch.nn.MaxPool2d(kernel_size = 2, stride = 2, padding = 1))\n",
    "\n",
    "        # L3 ImgIn shape=(?, 6, 6, 64)\n",
    "        #    Conv      ->(?, 3, 3, 128)\n",
    "        #    Pool      ->(?, 2, 2, 128)\n",
    "         \n",
    "        self.fc1 = torch.nn.Linear(2*2*128, 625 ,bias = True)\n",
    "        torch.nn.init.xavier_uniform_(self.fc1.weight)\n",
    "        \n",
    "        self.layer4 = torch.nn.Sequential(\n",
    "            self.fc1,\n",
    "            torch.nn.ReLU(),\n",
    "            torch.nn.Dropout(p = 1 - self.keep_prob))\n",
    "            \n",
    "        self.fc2 = torch.nn.Linear(625, 10 ,bias = True)\n",
    "        torch.nn.init.xavier_uniform_(self.fc2.weight)\n",
    "    \n",
    "    def forward(self,x):\n",
    "        out = self.layer1(x)\n",
    "        out = self.layer2(out)\n",
    "        out = self.layer3(out)\n",
    "        out = out.view(out.size(0), -1)\n",
    "        out = self.layer4(out)\n",
    "        out = self.fc2(out)\n",
    "        return out\n",
    "\n"
   ]
  },
  {
   "cell_type": "markdown",
   "metadata": {},
   "source": [
    "#### 2-2) layer 3 의 output size = (2,2,128)"
   ]
  },
  {
   "cell_type": "code",
   "execution_count": 11,
   "metadata": {},
   "outputs": [],
   "source": [
    "model2 = CNN2().to(device)"
   ]
  },
  {
   "cell_type": "code",
   "execution_count": 12,
   "metadata": {},
   "outputs": [],
   "source": [
    "criterion = torch.nn.CrossEntropyLoss().to(device)\n",
    "optimizer = torch.optim.Adam(model2.parameters(), lr= learning_rate)"
   ]
  },
  {
   "cell_type": "code",
   "execution_count": 13,
   "metadata": {},
   "outputs": [
    {
     "name": "stdout",
     "output_type": "stream",
     "text": [
      "시간이 좀 걸림\n",
      "[Epoch:    1] cost = 0.265460581\n",
      "[Epoch:    2] cost = 0.0694887415\n",
      "[Epoch:    3] cost = 0.0464758128\n",
      "[Epoch:    4] cost = 0.0377755277\n",
      "[Epoch:    5] cost = 0.0294301193\n",
      "[Epoch:    6] cost = 0.0255783852\n",
      "[Epoch:    7] cost = 0.02240525\n",
      "[Epoch:    8] cost = 0.0184323676\n",
      "[Epoch:    9] cost = 0.01873108\n",
      "[Epoch:   10] cost = 0.0142349014\n",
      "[Epoch:   11] cost = 0.0135582378\n",
      "[Epoch:   12] cost = 0.0126877613\n",
      "[Epoch:   13] cost = 0.0114614824\n",
      "[Epoch:   14] cost = 0.0087939417\n",
      "[Epoch:   15] cost = 0.0100883404\n",
      "Learning finished\n"
     ]
    }
   ],
   "source": [
    "# 모델 학습\n",
    "\n",
    "total_batch = len(data_loader)\n",
    "print ('시간이 좀 걸림')\n",
    "for epoch in range(training_epochs):\n",
    "    avg_cost = 0\n",
    "    \n",
    "    for X, Y in data_loader:\n",
    "        X = X.to(device)\n",
    "        Y = Y.to(device)\n",
    "        \n",
    "        optimizer.zero_grad()\n",
    "        hypothesis = model2(X)\n",
    "        cost = criterion(hypothesis, Y)\n",
    "        cost.backward()\n",
    "        optimizer.step()\n",
    "        \n",
    "        avg_cost += cost / total_batch\n",
    "        \n",
    "    print('[Epoch: {:>4}] cost = {:>.9}'.format(epoch + 1, avg_cost))\n",
    "print('Learning finished')"
   ]
  },
  {
   "cell_type": "code",
   "execution_count": 15,
   "metadata": {},
   "outputs": [
    {
     "name": "stdout",
     "output_type": "stream",
     "text": [
      "Accuracy: 0.9783999919891357\n"
     ]
    }
   ],
   "source": [
    "# 모델 성능 확인\n",
    "\n",
    "with torch.no_grad():\n",
    "    X_test = mnist_test.test_data.view(len(mnist_test), 1, 28, 28).float().to(device)\n",
    "    Y_test =  mnist_test.test_labels.to(device)\n",
    "    \n",
    "    prediction = model2(X_test)\n",
    "    correct_prediction = torch.argmax(prediction, 1) == Y_test\n",
    "    accuracy = correct_prediction.float().mean()\n",
    "    print('Accuracy:', accuracy.item())"
   ]
  },
  {
   "cell_type": "markdown",
   "metadata": {},
   "source": [
    "#### 2-3) 기존 CNN 모델에 비해 cost가 소폭 상승, accuracy도 소폭 상승 했지만 거의 비슷"
   ]
  }
 ],
 "metadata": {
  "kernelspec": {
   "display_name": "Python 3",
   "language": "python",
   "name": "python3"
  },
  "language_info": {
   "codemirror_mode": {
    "name": "ipython",
    "version": 3
   },
   "file_extension": ".py",
   "mimetype": "text/x-python",
   "name": "python",
   "nbconvert_exporter": "python",
   "pygments_lexer": "ipython3",
   "version": "3.7.6"
  }
 },
 "nbformat": 4,
 "nbformat_minor": 4
}
