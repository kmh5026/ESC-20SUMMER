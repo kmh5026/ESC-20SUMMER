{
  "nbformat": 4,
  "nbformat_minor": 0,
  "metadata": {
    "colab": {
      "name": "WEEK2HW_BCB.ipynb",
      "provenance": []
    },
    "kernelspec": {
      "name": "python3",
      "display_name": "Python 3"
    },
    "widgets": {
      "application/vnd.jupyter.widget-state+json": {
        "a15bfccf5bb64cf4979d430eebb9ffc5": {
          "model_module": "@jupyter-widgets/controls",
          "model_name": "HBoxModel",
          "state": {
            "_view_name": "HBoxView",
            "_dom_classes": [],
            "_model_name": "HBoxModel",
            "_view_module": "@jupyter-widgets/controls",
            "_model_module_version": "1.5.0",
            "_view_count": null,
            "_view_module_version": "1.5.0",
            "box_style": "",
            "layout": "IPY_MODEL_d27a177a519f4757aaf7ed93c6460bf8",
            "_model_module": "@jupyter-widgets/controls",
            "children": [
              "IPY_MODEL_6944645312ae42df961626adeccceef2",
              "IPY_MODEL_95f6d311beb248f181c948a20270390b"
            ]
          }
        },
        "d27a177a519f4757aaf7ed93c6460bf8": {
          "model_module": "@jupyter-widgets/base",
          "model_name": "LayoutModel",
          "state": {
            "_view_name": "LayoutView",
            "grid_template_rows": null,
            "right": null,
            "justify_content": null,
            "_view_module": "@jupyter-widgets/base",
            "overflow": null,
            "_model_module_version": "1.2.0",
            "_view_count": null,
            "flex_flow": null,
            "width": null,
            "min_width": null,
            "border": null,
            "align_items": null,
            "bottom": null,
            "_model_module": "@jupyter-widgets/base",
            "top": null,
            "grid_column": null,
            "overflow_y": null,
            "overflow_x": null,
            "grid_auto_flow": null,
            "grid_area": null,
            "grid_template_columns": null,
            "flex": null,
            "_model_name": "LayoutModel",
            "justify_items": null,
            "grid_row": null,
            "max_height": null,
            "align_content": null,
            "visibility": null,
            "align_self": null,
            "height": null,
            "min_height": null,
            "padding": null,
            "grid_auto_rows": null,
            "grid_gap": null,
            "max_width": null,
            "order": null,
            "_view_module_version": "1.2.0",
            "grid_template_areas": null,
            "object_position": null,
            "object_fit": null,
            "grid_auto_columns": null,
            "margin": null,
            "display": null,
            "left": null
          }
        },
        "6944645312ae42df961626adeccceef2": {
          "model_module": "@jupyter-widgets/controls",
          "model_name": "FloatProgressModel",
          "state": {
            "_view_name": "ProgressView",
            "style": "IPY_MODEL_ec812a9924c34fc0aa2b1fd022cd9721",
            "_dom_classes": [],
            "description": "",
            "_model_name": "FloatProgressModel",
            "bar_style": "info",
            "max": 1,
            "_view_module": "@jupyter-widgets/controls",
            "_model_module_version": "1.5.0",
            "value": 1,
            "_view_count": null,
            "_view_module_version": "1.5.0",
            "orientation": "horizontal",
            "min": 0,
            "description_tooltip": null,
            "_model_module": "@jupyter-widgets/controls",
            "layout": "IPY_MODEL_dd5517e850ef4a46ac052f90e43d4798"
          }
        },
        "95f6d311beb248f181c948a20270390b": {
          "model_module": "@jupyter-widgets/controls",
          "model_name": "HTMLModel",
          "state": {
            "_view_name": "HTMLView",
            "style": "IPY_MODEL_64250c4213944af8bfd0f40c3de8e97f",
            "_dom_classes": [],
            "description": "",
            "_model_name": "HTMLModel",
            "placeholder": "​",
            "_view_module": "@jupyter-widgets/controls",
            "_model_module_version": "1.5.0",
            "value": " 9920512/? [00:20&lt;00:00, 1337322.38it/s]",
            "_view_count": null,
            "_view_module_version": "1.5.0",
            "description_tooltip": null,
            "_model_module": "@jupyter-widgets/controls",
            "layout": "IPY_MODEL_b8499ea37bda467e987625b54d6b64ff"
          }
        },
        "ec812a9924c34fc0aa2b1fd022cd9721": {
          "model_module": "@jupyter-widgets/controls",
          "model_name": "ProgressStyleModel",
          "state": {
            "_view_name": "StyleView",
            "_model_name": "ProgressStyleModel",
            "description_width": "initial",
            "_view_module": "@jupyter-widgets/base",
            "_model_module_version": "1.5.0",
            "_view_count": null,
            "_view_module_version": "1.2.0",
            "bar_color": null,
            "_model_module": "@jupyter-widgets/controls"
          }
        },
        "dd5517e850ef4a46ac052f90e43d4798": {
          "model_module": "@jupyter-widgets/base",
          "model_name": "LayoutModel",
          "state": {
            "_view_name": "LayoutView",
            "grid_template_rows": null,
            "right": null,
            "justify_content": null,
            "_view_module": "@jupyter-widgets/base",
            "overflow": null,
            "_model_module_version": "1.2.0",
            "_view_count": null,
            "flex_flow": null,
            "width": null,
            "min_width": null,
            "border": null,
            "align_items": null,
            "bottom": null,
            "_model_module": "@jupyter-widgets/base",
            "top": null,
            "grid_column": null,
            "overflow_y": null,
            "overflow_x": null,
            "grid_auto_flow": null,
            "grid_area": null,
            "grid_template_columns": null,
            "flex": null,
            "_model_name": "LayoutModel",
            "justify_items": null,
            "grid_row": null,
            "max_height": null,
            "align_content": null,
            "visibility": null,
            "align_self": null,
            "height": null,
            "min_height": null,
            "padding": null,
            "grid_auto_rows": null,
            "grid_gap": null,
            "max_width": null,
            "order": null,
            "_view_module_version": "1.2.0",
            "grid_template_areas": null,
            "object_position": null,
            "object_fit": null,
            "grid_auto_columns": null,
            "margin": null,
            "display": null,
            "left": null
          }
        },
        "64250c4213944af8bfd0f40c3de8e97f": {
          "model_module": "@jupyter-widgets/controls",
          "model_name": "DescriptionStyleModel",
          "state": {
            "_view_name": "StyleView",
            "_model_name": "DescriptionStyleModel",
            "description_width": "",
            "_view_module": "@jupyter-widgets/base",
            "_model_module_version": "1.5.0",
            "_view_count": null,
            "_view_module_version": "1.2.0",
            "_model_module": "@jupyter-widgets/controls"
          }
        },
        "b8499ea37bda467e987625b54d6b64ff": {
          "model_module": "@jupyter-widgets/base",
          "model_name": "LayoutModel",
          "state": {
            "_view_name": "LayoutView",
            "grid_template_rows": null,
            "right": null,
            "justify_content": null,
            "_view_module": "@jupyter-widgets/base",
            "overflow": null,
            "_model_module_version": "1.2.0",
            "_view_count": null,
            "flex_flow": null,
            "width": null,
            "min_width": null,
            "border": null,
            "align_items": null,
            "bottom": null,
            "_model_module": "@jupyter-widgets/base",
            "top": null,
            "grid_column": null,
            "overflow_y": null,
            "overflow_x": null,
            "grid_auto_flow": null,
            "grid_area": null,
            "grid_template_columns": null,
            "flex": null,
            "_model_name": "LayoutModel",
            "justify_items": null,
            "grid_row": null,
            "max_height": null,
            "align_content": null,
            "visibility": null,
            "align_self": null,
            "height": null,
            "min_height": null,
            "padding": null,
            "grid_auto_rows": null,
            "grid_gap": null,
            "max_width": null,
            "order": null,
            "_view_module_version": "1.2.0",
            "grid_template_areas": null,
            "object_position": null,
            "object_fit": null,
            "grid_auto_columns": null,
            "margin": null,
            "display": null,
            "left": null
          }
        },
        "13cce253cb5f4da4b07e0d9749926d40": {
          "model_module": "@jupyter-widgets/controls",
          "model_name": "HBoxModel",
          "state": {
            "_view_name": "HBoxView",
            "_dom_classes": [],
            "_model_name": "HBoxModel",
            "_view_module": "@jupyter-widgets/controls",
            "_model_module_version": "1.5.0",
            "_view_count": null,
            "_view_module_version": "1.5.0",
            "box_style": "",
            "layout": "IPY_MODEL_1994fa778c2e4121b27830fcbd36297f",
            "_model_module": "@jupyter-widgets/controls",
            "children": [
              "IPY_MODEL_ac0526e1e09f448e8566f3ecf6b37d9c",
              "IPY_MODEL_d0c2549d09d3415facc5b59b8081ef73"
            ]
          }
        },
        "1994fa778c2e4121b27830fcbd36297f": {
          "model_module": "@jupyter-widgets/base",
          "model_name": "LayoutModel",
          "state": {
            "_view_name": "LayoutView",
            "grid_template_rows": null,
            "right": null,
            "justify_content": null,
            "_view_module": "@jupyter-widgets/base",
            "overflow": null,
            "_model_module_version": "1.2.0",
            "_view_count": null,
            "flex_flow": null,
            "width": null,
            "min_width": null,
            "border": null,
            "align_items": null,
            "bottom": null,
            "_model_module": "@jupyter-widgets/base",
            "top": null,
            "grid_column": null,
            "overflow_y": null,
            "overflow_x": null,
            "grid_auto_flow": null,
            "grid_area": null,
            "grid_template_columns": null,
            "flex": null,
            "_model_name": "LayoutModel",
            "justify_items": null,
            "grid_row": null,
            "max_height": null,
            "align_content": null,
            "visibility": null,
            "align_self": null,
            "height": null,
            "min_height": null,
            "padding": null,
            "grid_auto_rows": null,
            "grid_gap": null,
            "max_width": null,
            "order": null,
            "_view_module_version": "1.2.0",
            "grid_template_areas": null,
            "object_position": null,
            "object_fit": null,
            "grid_auto_columns": null,
            "margin": null,
            "display": null,
            "left": null
          }
        },
        "ac0526e1e09f448e8566f3ecf6b37d9c": {
          "model_module": "@jupyter-widgets/controls",
          "model_name": "FloatProgressModel",
          "state": {
            "_view_name": "ProgressView",
            "style": "IPY_MODEL_7cf80e94f2eb455d80ecd451c85bf435",
            "_dom_classes": [],
            "description": "",
            "_model_name": "FloatProgressModel",
            "bar_style": "success",
            "max": 1,
            "_view_module": "@jupyter-widgets/controls",
            "_model_module_version": "1.5.0",
            "value": 1,
            "_view_count": null,
            "_view_module_version": "1.5.0",
            "orientation": "horizontal",
            "min": 0,
            "description_tooltip": null,
            "_model_module": "@jupyter-widgets/controls",
            "layout": "IPY_MODEL_d2e2fb1ebabc4e0cb2f5e18ffbc2ad4a"
          }
        },
        "d0c2549d09d3415facc5b59b8081ef73": {
          "model_module": "@jupyter-widgets/controls",
          "model_name": "HTMLModel",
          "state": {
            "_view_name": "HTMLView",
            "style": "IPY_MODEL_5b4f6a4e1a324fd0b6cf4d1f6fbe1c79",
            "_dom_classes": [],
            "description": "",
            "_model_name": "HTMLModel",
            "placeholder": "​",
            "_view_module": "@jupyter-widgets/controls",
            "_model_module_version": "1.5.0",
            "value": " 32768/? [00:00&lt;00:00, 97602.29it/s]",
            "_view_count": null,
            "_view_module_version": "1.5.0",
            "description_tooltip": null,
            "_model_module": "@jupyter-widgets/controls",
            "layout": "IPY_MODEL_d11135a6255b488aa3e8712f073ad108"
          }
        },
        "7cf80e94f2eb455d80ecd451c85bf435": {
          "model_module": "@jupyter-widgets/controls",
          "model_name": "ProgressStyleModel",
          "state": {
            "_view_name": "StyleView",
            "_model_name": "ProgressStyleModel",
            "description_width": "initial",
            "_view_module": "@jupyter-widgets/base",
            "_model_module_version": "1.5.0",
            "_view_count": null,
            "_view_module_version": "1.2.0",
            "bar_color": null,
            "_model_module": "@jupyter-widgets/controls"
          }
        },
        "d2e2fb1ebabc4e0cb2f5e18ffbc2ad4a": {
          "model_module": "@jupyter-widgets/base",
          "model_name": "LayoutModel",
          "state": {
            "_view_name": "LayoutView",
            "grid_template_rows": null,
            "right": null,
            "justify_content": null,
            "_view_module": "@jupyter-widgets/base",
            "overflow": null,
            "_model_module_version": "1.2.0",
            "_view_count": null,
            "flex_flow": null,
            "width": null,
            "min_width": null,
            "border": null,
            "align_items": null,
            "bottom": null,
            "_model_module": "@jupyter-widgets/base",
            "top": null,
            "grid_column": null,
            "overflow_y": null,
            "overflow_x": null,
            "grid_auto_flow": null,
            "grid_area": null,
            "grid_template_columns": null,
            "flex": null,
            "_model_name": "LayoutModel",
            "justify_items": null,
            "grid_row": null,
            "max_height": null,
            "align_content": null,
            "visibility": null,
            "align_self": null,
            "height": null,
            "min_height": null,
            "padding": null,
            "grid_auto_rows": null,
            "grid_gap": null,
            "max_width": null,
            "order": null,
            "_view_module_version": "1.2.0",
            "grid_template_areas": null,
            "object_position": null,
            "object_fit": null,
            "grid_auto_columns": null,
            "margin": null,
            "display": null,
            "left": null
          }
        },
        "5b4f6a4e1a324fd0b6cf4d1f6fbe1c79": {
          "model_module": "@jupyter-widgets/controls",
          "model_name": "DescriptionStyleModel",
          "state": {
            "_view_name": "StyleView",
            "_model_name": "DescriptionStyleModel",
            "description_width": "",
            "_view_module": "@jupyter-widgets/base",
            "_model_module_version": "1.5.0",
            "_view_count": null,
            "_view_module_version": "1.2.0",
            "_model_module": "@jupyter-widgets/controls"
          }
        },
        "d11135a6255b488aa3e8712f073ad108": {
          "model_module": "@jupyter-widgets/base",
          "model_name": "LayoutModel",
          "state": {
            "_view_name": "LayoutView",
            "grid_template_rows": null,
            "right": null,
            "justify_content": null,
            "_view_module": "@jupyter-widgets/base",
            "overflow": null,
            "_model_module_version": "1.2.0",
            "_view_count": null,
            "flex_flow": null,
            "width": null,
            "min_width": null,
            "border": null,
            "align_items": null,
            "bottom": null,
            "_model_module": "@jupyter-widgets/base",
            "top": null,
            "grid_column": null,
            "overflow_y": null,
            "overflow_x": null,
            "grid_auto_flow": null,
            "grid_area": null,
            "grid_template_columns": null,
            "flex": null,
            "_model_name": "LayoutModel",
            "justify_items": null,
            "grid_row": null,
            "max_height": null,
            "align_content": null,
            "visibility": null,
            "align_self": null,
            "height": null,
            "min_height": null,
            "padding": null,
            "grid_auto_rows": null,
            "grid_gap": null,
            "max_width": null,
            "order": null,
            "_view_module_version": "1.2.0",
            "grid_template_areas": null,
            "object_position": null,
            "object_fit": null,
            "grid_auto_columns": null,
            "margin": null,
            "display": null,
            "left": null
          }
        },
        "71d72d572ef94f3d9c44cbc38d7f4665": {
          "model_module": "@jupyter-widgets/controls",
          "model_name": "HBoxModel",
          "state": {
            "_view_name": "HBoxView",
            "_dom_classes": [],
            "_model_name": "HBoxModel",
            "_view_module": "@jupyter-widgets/controls",
            "_model_module_version": "1.5.0",
            "_view_count": null,
            "_view_module_version": "1.5.0",
            "box_style": "",
            "layout": "IPY_MODEL_f5b4e4eb0bd3468e921d13dafd1a8d4c",
            "_model_module": "@jupyter-widgets/controls",
            "children": [
              "IPY_MODEL_ac4397e0f6d441c09c6fd4a6861d0ffb",
              "IPY_MODEL_458cc096a9634f77841dfac4a03eb0df"
            ]
          }
        },
        "f5b4e4eb0bd3468e921d13dafd1a8d4c": {
          "model_module": "@jupyter-widgets/base",
          "model_name": "LayoutModel",
          "state": {
            "_view_name": "LayoutView",
            "grid_template_rows": null,
            "right": null,
            "justify_content": null,
            "_view_module": "@jupyter-widgets/base",
            "overflow": null,
            "_model_module_version": "1.2.0",
            "_view_count": null,
            "flex_flow": null,
            "width": null,
            "min_width": null,
            "border": null,
            "align_items": null,
            "bottom": null,
            "_model_module": "@jupyter-widgets/base",
            "top": null,
            "grid_column": null,
            "overflow_y": null,
            "overflow_x": null,
            "grid_auto_flow": null,
            "grid_area": null,
            "grid_template_columns": null,
            "flex": null,
            "_model_name": "LayoutModel",
            "justify_items": null,
            "grid_row": null,
            "max_height": null,
            "align_content": null,
            "visibility": null,
            "align_self": null,
            "height": null,
            "min_height": null,
            "padding": null,
            "grid_auto_rows": null,
            "grid_gap": null,
            "max_width": null,
            "order": null,
            "_view_module_version": "1.2.0",
            "grid_template_areas": null,
            "object_position": null,
            "object_fit": null,
            "grid_auto_columns": null,
            "margin": null,
            "display": null,
            "left": null
          }
        },
        "ac4397e0f6d441c09c6fd4a6861d0ffb": {
          "model_module": "@jupyter-widgets/controls",
          "model_name": "FloatProgressModel",
          "state": {
            "_view_name": "ProgressView",
            "style": "IPY_MODEL_6abaad146578482697a5a713e75f72c0",
            "_dom_classes": [],
            "description": "",
            "_model_name": "FloatProgressModel",
            "bar_style": "info",
            "max": 1,
            "_view_module": "@jupyter-widgets/controls",
            "_model_module_version": "1.5.0",
            "value": 1,
            "_view_count": null,
            "_view_module_version": "1.5.0",
            "orientation": "horizontal",
            "min": 0,
            "description_tooltip": null,
            "_model_module": "@jupyter-widgets/controls",
            "layout": "IPY_MODEL_e41443f99e814c82b87009d7ea728ebb"
          }
        },
        "458cc096a9634f77841dfac4a03eb0df": {
          "model_module": "@jupyter-widgets/controls",
          "model_name": "HTMLModel",
          "state": {
            "_view_name": "HTMLView",
            "style": "IPY_MODEL_96571fe5262e4623be60ba031aeb699e",
            "_dom_classes": [],
            "description": "",
            "_model_name": "HTMLModel",
            "placeholder": "​",
            "_view_module": "@jupyter-widgets/controls",
            "_model_module_version": "1.5.0",
            "value": " 1654784/? [00:18&lt;00:00, 266053.94it/s]",
            "_view_count": null,
            "_view_module_version": "1.5.0",
            "description_tooltip": null,
            "_model_module": "@jupyter-widgets/controls",
            "layout": "IPY_MODEL_31b77f48e619415e90084aff832c9351"
          }
        },
        "6abaad146578482697a5a713e75f72c0": {
          "model_module": "@jupyter-widgets/controls",
          "model_name": "ProgressStyleModel",
          "state": {
            "_view_name": "StyleView",
            "_model_name": "ProgressStyleModel",
            "description_width": "initial",
            "_view_module": "@jupyter-widgets/base",
            "_model_module_version": "1.5.0",
            "_view_count": null,
            "_view_module_version": "1.2.0",
            "bar_color": null,
            "_model_module": "@jupyter-widgets/controls"
          }
        },
        "e41443f99e814c82b87009d7ea728ebb": {
          "model_module": "@jupyter-widgets/base",
          "model_name": "LayoutModel",
          "state": {
            "_view_name": "LayoutView",
            "grid_template_rows": null,
            "right": null,
            "justify_content": null,
            "_view_module": "@jupyter-widgets/base",
            "overflow": null,
            "_model_module_version": "1.2.0",
            "_view_count": null,
            "flex_flow": null,
            "width": null,
            "min_width": null,
            "border": null,
            "align_items": null,
            "bottom": null,
            "_model_module": "@jupyter-widgets/base",
            "top": null,
            "grid_column": null,
            "overflow_y": null,
            "overflow_x": null,
            "grid_auto_flow": null,
            "grid_area": null,
            "grid_template_columns": null,
            "flex": null,
            "_model_name": "LayoutModel",
            "justify_items": null,
            "grid_row": null,
            "max_height": null,
            "align_content": null,
            "visibility": null,
            "align_self": null,
            "height": null,
            "min_height": null,
            "padding": null,
            "grid_auto_rows": null,
            "grid_gap": null,
            "max_width": null,
            "order": null,
            "_view_module_version": "1.2.0",
            "grid_template_areas": null,
            "object_position": null,
            "object_fit": null,
            "grid_auto_columns": null,
            "margin": null,
            "display": null,
            "left": null
          }
        },
        "96571fe5262e4623be60ba031aeb699e": {
          "model_module": "@jupyter-widgets/controls",
          "model_name": "DescriptionStyleModel",
          "state": {
            "_view_name": "StyleView",
            "_model_name": "DescriptionStyleModel",
            "description_width": "",
            "_view_module": "@jupyter-widgets/base",
            "_model_module_version": "1.5.0",
            "_view_count": null,
            "_view_module_version": "1.2.0",
            "_model_module": "@jupyter-widgets/controls"
          }
        },
        "31b77f48e619415e90084aff832c9351": {
          "model_module": "@jupyter-widgets/base",
          "model_name": "LayoutModel",
          "state": {
            "_view_name": "LayoutView",
            "grid_template_rows": null,
            "right": null,
            "justify_content": null,
            "_view_module": "@jupyter-widgets/base",
            "overflow": null,
            "_model_module_version": "1.2.0",
            "_view_count": null,
            "flex_flow": null,
            "width": null,
            "min_width": null,
            "border": null,
            "align_items": null,
            "bottom": null,
            "_model_module": "@jupyter-widgets/base",
            "top": null,
            "grid_column": null,
            "overflow_y": null,
            "overflow_x": null,
            "grid_auto_flow": null,
            "grid_area": null,
            "grid_template_columns": null,
            "flex": null,
            "_model_name": "LayoutModel",
            "justify_items": null,
            "grid_row": null,
            "max_height": null,
            "align_content": null,
            "visibility": null,
            "align_self": null,
            "height": null,
            "min_height": null,
            "padding": null,
            "grid_auto_rows": null,
            "grid_gap": null,
            "max_width": null,
            "order": null,
            "_view_module_version": "1.2.0",
            "grid_template_areas": null,
            "object_position": null,
            "object_fit": null,
            "grid_auto_columns": null,
            "margin": null,
            "display": null,
            "left": null
          }
        },
        "cec69fbd67234d99957a949d9c821d6a": {
          "model_module": "@jupyter-widgets/controls",
          "model_name": "HBoxModel",
          "state": {
            "_view_name": "HBoxView",
            "_dom_classes": [],
            "_model_name": "HBoxModel",
            "_view_module": "@jupyter-widgets/controls",
            "_model_module_version": "1.5.0",
            "_view_count": null,
            "_view_module_version": "1.5.0",
            "box_style": "",
            "layout": "IPY_MODEL_924faad20ae34aed91f87d3765829ab7",
            "_model_module": "@jupyter-widgets/controls",
            "children": [
              "IPY_MODEL_0facbe6094fa45219b092e800a561c7b",
              "IPY_MODEL_03d644e9ce134e13a006bd7c839e2500"
            ]
          }
        },
        "924faad20ae34aed91f87d3765829ab7": {
          "model_module": "@jupyter-widgets/base",
          "model_name": "LayoutModel",
          "state": {
            "_view_name": "LayoutView",
            "grid_template_rows": null,
            "right": null,
            "justify_content": null,
            "_view_module": "@jupyter-widgets/base",
            "overflow": null,
            "_model_module_version": "1.2.0",
            "_view_count": null,
            "flex_flow": null,
            "width": null,
            "min_width": null,
            "border": null,
            "align_items": null,
            "bottom": null,
            "_model_module": "@jupyter-widgets/base",
            "top": null,
            "grid_column": null,
            "overflow_y": null,
            "overflow_x": null,
            "grid_auto_flow": null,
            "grid_area": null,
            "grid_template_columns": null,
            "flex": null,
            "_model_name": "LayoutModel",
            "justify_items": null,
            "grid_row": null,
            "max_height": null,
            "align_content": null,
            "visibility": null,
            "align_self": null,
            "height": null,
            "min_height": null,
            "padding": null,
            "grid_auto_rows": null,
            "grid_gap": null,
            "max_width": null,
            "order": null,
            "_view_module_version": "1.2.0",
            "grid_template_areas": null,
            "object_position": null,
            "object_fit": null,
            "grid_auto_columns": null,
            "margin": null,
            "display": null,
            "left": null
          }
        },
        "0facbe6094fa45219b092e800a561c7b": {
          "model_module": "@jupyter-widgets/controls",
          "model_name": "FloatProgressModel",
          "state": {
            "_view_name": "ProgressView",
            "style": "IPY_MODEL_d5f8cf0e4f4b4e1f9dfd19c0c3c2d1ef",
            "_dom_classes": [],
            "description": "  0%",
            "_model_name": "FloatProgressModel",
            "bar_style": "info",
            "max": 1,
            "_view_module": "@jupyter-widgets/controls",
            "_model_module_version": "1.5.0",
            "value": 0,
            "_view_count": null,
            "_view_module_version": "1.5.0",
            "orientation": "horizontal",
            "min": 0,
            "description_tooltip": null,
            "_model_module": "@jupyter-widgets/controls",
            "layout": "IPY_MODEL_71a55a9529d04b0db0a35736c98bb99d"
          }
        },
        "03d644e9ce134e13a006bd7c839e2500": {
          "model_module": "@jupyter-widgets/controls",
          "model_name": "HTMLModel",
          "state": {
            "_view_name": "HTMLView",
            "style": "IPY_MODEL_e9155b6fb31941d287f5ce33a52af98c",
            "_dom_classes": [],
            "description": "",
            "_model_name": "HTMLModel",
            "placeholder": "​",
            "_view_module": "@jupyter-widgets/controls",
            "_model_module_version": "1.5.0",
            "value": " 0/4542 [00:00&lt;?, ?it/s]",
            "_view_count": null,
            "_view_module_version": "1.5.0",
            "description_tooltip": null,
            "_model_module": "@jupyter-widgets/controls",
            "layout": "IPY_MODEL_6907e039f4d44f31b391c2dac95e37de"
          }
        },
        "d5f8cf0e4f4b4e1f9dfd19c0c3c2d1ef": {
          "model_module": "@jupyter-widgets/controls",
          "model_name": "ProgressStyleModel",
          "state": {
            "_view_name": "StyleView",
            "_model_name": "ProgressStyleModel",
            "description_width": "initial",
            "_view_module": "@jupyter-widgets/base",
            "_model_module_version": "1.5.0",
            "_view_count": null,
            "_view_module_version": "1.2.0",
            "bar_color": null,
            "_model_module": "@jupyter-widgets/controls"
          }
        },
        "71a55a9529d04b0db0a35736c98bb99d": {
          "model_module": "@jupyter-widgets/base",
          "model_name": "LayoutModel",
          "state": {
            "_view_name": "LayoutView",
            "grid_template_rows": null,
            "right": null,
            "justify_content": null,
            "_view_module": "@jupyter-widgets/base",
            "overflow": null,
            "_model_module_version": "1.2.0",
            "_view_count": null,
            "flex_flow": null,
            "width": null,
            "min_width": null,
            "border": null,
            "align_items": null,
            "bottom": null,
            "_model_module": "@jupyter-widgets/base",
            "top": null,
            "grid_column": null,
            "overflow_y": null,
            "overflow_x": null,
            "grid_auto_flow": null,
            "grid_area": null,
            "grid_template_columns": null,
            "flex": null,
            "_model_name": "LayoutModel",
            "justify_items": null,
            "grid_row": null,
            "max_height": null,
            "align_content": null,
            "visibility": null,
            "align_self": null,
            "height": null,
            "min_height": null,
            "padding": null,
            "grid_auto_rows": null,
            "grid_gap": null,
            "max_width": null,
            "order": null,
            "_view_module_version": "1.2.0",
            "grid_template_areas": null,
            "object_position": null,
            "object_fit": null,
            "grid_auto_columns": null,
            "margin": null,
            "display": null,
            "left": null
          }
        },
        "e9155b6fb31941d287f5ce33a52af98c": {
          "model_module": "@jupyter-widgets/controls",
          "model_name": "DescriptionStyleModel",
          "state": {
            "_view_name": "StyleView",
            "_model_name": "DescriptionStyleModel",
            "description_width": "",
            "_view_module": "@jupyter-widgets/base",
            "_model_module_version": "1.5.0",
            "_view_count": null,
            "_view_module_version": "1.2.0",
            "_model_module": "@jupyter-widgets/controls"
          }
        },
        "6907e039f4d44f31b391c2dac95e37de": {
          "model_module": "@jupyter-widgets/base",
          "model_name": "LayoutModel",
          "state": {
            "_view_name": "LayoutView",
            "grid_template_rows": null,
            "right": null,
            "justify_content": null,
            "_view_module": "@jupyter-widgets/base",
            "overflow": null,
            "_model_module_version": "1.2.0",
            "_view_count": null,
            "flex_flow": null,
            "width": null,
            "min_width": null,
            "border": null,
            "align_items": null,
            "bottom": null,
            "_model_module": "@jupyter-widgets/base",
            "top": null,
            "grid_column": null,
            "overflow_y": null,
            "overflow_x": null,
            "grid_auto_flow": null,
            "grid_area": null,
            "grid_template_columns": null,
            "flex": null,
            "_model_name": "LayoutModel",
            "justify_items": null,
            "grid_row": null,
            "max_height": null,
            "align_content": null,
            "visibility": null,
            "align_self": null,
            "height": null,
            "min_height": null,
            "padding": null,
            "grid_auto_rows": null,
            "grid_gap": null,
            "max_width": null,
            "order": null,
            "_view_module_version": "1.2.0",
            "grid_template_areas": null,
            "object_position": null,
            "object_fit": null,
            "grid_auto_columns": null,
            "margin": null,
            "display": null,
            "left": null
          }
        }
      }
    }
  },
  "cells": [
    {
      "cell_type": "code",
      "metadata": {
        "id": "TjiGp7oguA_W",
        "colab_type": "code",
        "colab": {}
      },
      "source": [
        "import torch\n",
        "import torchvision.datasets as dsets\n",
        "import torchvision.transforms as transforms\n",
        "import matplotlib.pylab as plt\n",
        "import random"
      ],
      "execution_count": 2,
      "outputs": []
    },
    {
      "cell_type": "code",
      "metadata": {
        "id": "ax63gMMeuFxN",
        "colab_type": "code",
        "colab": {}
      },
      "source": [
        "device = 'cuda' if torch.cuda.is_available() else 'cpu'"
      ],
      "execution_count": 3,
      "outputs": []
    },
    {
      "cell_type": "code",
      "metadata": {
        "id": "ErhB1rREuPgB",
        "colab_type": "code",
        "colab": {}
      },
      "source": [
        "# parameter (learning rate, training epochs, batch_size)\n",
        "\n",
        "learning_rate = 0.1\n",
        "training_epochs = 15\n",
        "batch_size = 100"
      ],
      "execution_count": 4,
      "outputs": []
    },
    {
      "cell_type": "code",
      "metadata": {
        "id": "mdRoQtgCuo6R",
        "colab_type": "code",
        "colab": {
          "base_uri": "https://localhost:8080/",
          "height": 399,
          "referenced_widgets": [
            "a15bfccf5bb64cf4979d430eebb9ffc5",
            "d27a177a519f4757aaf7ed93c6460bf8",
            "6944645312ae42df961626adeccceef2",
            "95f6d311beb248f181c948a20270390b",
            "ec812a9924c34fc0aa2b1fd022cd9721",
            "dd5517e850ef4a46ac052f90e43d4798",
            "64250c4213944af8bfd0f40c3de8e97f",
            "b8499ea37bda467e987625b54d6b64ff",
            "13cce253cb5f4da4b07e0d9749926d40",
            "1994fa778c2e4121b27830fcbd36297f",
            "ac0526e1e09f448e8566f3ecf6b37d9c",
            "d0c2549d09d3415facc5b59b8081ef73",
            "7cf80e94f2eb455d80ecd451c85bf435",
            "d2e2fb1ebabc4e0cb2f5e18ffbc2ad4a",
            "5b4f6a4e1a324fd0b6cf4d1f6fbe1c79",
            "d11135a6255b488aa3e8712f073ad108",
            "71d72d572ef94f3d9c44cbc38d7f4665",
            "f5b4e4eb0bd3468e921d13dafd1a8d4c",
            "ac4397e0f6d441c09c6fd4a6861d0ffb",
            "458cc096a9634f77841dfac4a03eb0df",
            "6abaad146578482697a5a713e75f72c0",
            "e41443f99e814c82b87009d7ea728ebb",
            "96571fe5262e4623be60ba031aeb699e",
            "31b77f48e619415e90084aff832c9351",
            "cec69fbd67234d99957a949d9c821d6a",
            "924faad20ae34aed91f87d3765829ab7",
            "0facbe6094fa45219b092e800a561c7b",
            "03d644e9ce134e13a006bd7c839e2500",
            "d5f8cf0e4f4b4e1f9dfd19c0c3c2d1ef",
            "71a55a9529d04b0db0a35736c98bb99d",
            "e9155b6fb31941d287f5ce33a52af98c",
            "6907e039f4d44f31b391c2dac95e37de"
          ]
        },
        "outputId": "4674dea8-23da-4ae8-a173-a77a676e44f9"
      },
      "source": [
        "# train과 test set으로 나누어 MNIST data 불러오기\n",
        "mnist_train = dsets.MNIST(root='MNIST_data/',\n",
        "                          train=True,\n",
        "                          transform=transforms.ToTensor(),\n",
        "                          download=True)\n",
        "\n",
        "mnist_test = dsets.MNIST(root='MNIST_data/',\n",
        "                         train=False,\n",
        "                         transform=transforms.ToTensor(),\n",
        "                         download=True)"
      ],
      "execution_count": 6,
      "outputs": [
        {
          "output_type": "stream",
          "text": [
            "Downloading http://yann.lecun.com/exdb/mnist/train-images-idx3-ubyte.gz to MNIST_data/MNIST/raw/train-images-idx3-ubyte.gz\n"
          ],
          "name": "stdout"
        },
        {
          "output_type": "display_data",
          "data": {
            "application/vnd.jupyter.widget-view+json": {
              "model_id": "a15bfccf5bb64cf4979d430eebb9ffc5",
              "version_minor": 0,
              "version_major": 2
            },
            "text/plain": [
              "HBox(children=(FloatProgress(value=1.0, bar_style='info', max=1.0), HTML(value='')))"
            ]
          },
          "metadata": {
            "tags": []
          }
        },
        {
          "output_type": "stream",
          "text": [
            "Extracting MNIST_data/MNIST/raw/train-images-idx3-ubyte.gz to MNIST_data/MNIST/raw\n",
            "Downloading http://yann.lecun.com/exdb/mnist/train-labels-idx1-ubyte.gz to MNIST_data/MNIST/raw/train-labels-idx1-ubyte.gz\n"
          ],
          "name": "stdout"
        },
        {
          "output_type": "display_data",
          "data": {
            "application/vnd.jupyter.widget-view+json": {
              "model_id": "13cce253cb5f4da4b07e0d9749926d40",
              "version_minor": 0,
              "version_major": 2
            },
            "text/plain": [
              "HBox(children=(FloatProgress(value=1.0, bar_style='info', max=1.0), HTML(value='')))"
            ]
          },
          "metadata": {
            "tags": []
          }
        },
        {
          "output_type": "stream",
          "text": [
            "Extracting MNIST_data/MNIST/raw/train-labels-idx1-ubyte.gz to MNIST_data/MNIST/raw\n",
            "Downloading http://yann.lecun.com/exdb/mnist/t10k-images-idx3-ubyte.gz to MNIST_data/MNIST/raw/t10k-images-idx3-ubyte.gz\n",
            "\n"
          ],
          "name": "stdout"
        },
        {
          "output_type": "display_data",
          "data": {
            "application/vnd.jupyter.widget-view+json": {
              "model_id": "71d72d572ef94f3d9c44cbc38d7f4665",
              "version_minor": 0,
              "version_major": 2
            },
            "text/plain": [
              "HBox(children=(FloatProgress(value=1.0, bar_style='info', max=1.0), HTML(value='')))"
            ]
          },
          "metadata": {
            "tags": []
          }
        },
        {
          "output_type": "stream",
          "text": [
            "Extracting MNIST_data/MNIST/raw/t10k-images-idx3-ubyte.gz to MNIST_data/MNIST/raw\n",
            "Downloading http://yann.lecun.com/exdb/mnist/t10k-labels-idx1-ubyte.gz to MNIST_data/MNIST/raw/t10k-labels-idx1-ubyte.gz\n"
          ],
          "name": "stdout"
        },
        {
          "output_type": "display_data",
          "data": {
            "application/vnd.jupyter.widget-view+json": {
              "model_id": "cec69fbd67234d99957a949d9c821d6a",
              "version_minor": 0,
              "version_major": 2
            },
            "text/plain": [
              "HBox(children=(FloatProgress(value=1.0, bar_style='info', max=1.0), HTML(value='')))"
            ]
          },
          "metadata": {
            "tags": []
          }
        },
        {
          "output_type": "stream",
          "text": [
            "Extracting MNIST_data/MNIST/raw/t10k-labels-idx1-ubyte.gz to MNIST_data/MNIST/raw\n",
            "Processing...\n",
            "Done!\n"
          ],
          "name": "stdout"
        },
        {
          "output_type": "stream",
          "text": [
            "/usr/local/lib/python3.6/dist-packages/torchvision/datasets/mnist.py:469: UserWarning: The given NumPy array is not writeable, and PyTorch does not support non-writeable tensors. This means you can write to the underlying (supposedly non-writeable) NumPy array using the tensor. You may want to copy the array to protect its data or make it writeable before converting it to a tensor. This type of warning will be suppressed for the rest of this program. (Triggered internally at  /pytorch/torch/csrc/utils/tensor_numpy.cpp:141.)\n",
            "  return torch.from_numpy(parsed.astype(m[2], copy=False)).view(*s)\n"
          ],
          "name": "stderr"
        }
      ]
    },
    {
      "cell_type": "code",
      "metadata": {
        "id": "78Y94QE_uufn",
        "colab_type": "code",
        "colab": {}
      },
      "source": [
        "# assign train & test(batch size, shuffle, drop_last)\n",
        "\n",
        "train_loader = torch.utils.data.DataLoader(dataset=mnist_train,\n",
        "                                          batch_size=batch_size,\n",
        "                                          shuffle=True,\n",
        "                                          drop_last=True)\n",
        "\n",
        "test_loader = torch.utils.data.DataLoader(dataset=mnist_test,\n",
        "                                          batch_size=batch_size,\n",
        "                                          shuffle=False,\n",
        "                                          drop_last=True)"
      ],
      "execution_count": 7,
      "outputs": []
    },
    {
      "cell_type": "code",
      "metadata": {
        "id": "NDZrSPkhvFCX",
        "colab_type": "code",
        "colab": {}
      },
      "source": [
        "# Layer (use 3 Layers, DropOut (p=0.3), ReLU fn, Batch normalization)\n",
        "# Hidden node # : 1st Layer (784,100), 2nd Layer(100,100),3rd Layer(100,10)\n",
        "\n",
        "linear1 = torch.nn.Linear(784, 100, bias=True)\n",
        "linear2 = torch.nn.Linear(100, 100, bias=True)\n",
        "linear3 = torch.nn.Linear(100, 10, bias=True)\n",
        "\n",
        "relu = torch.nn.ReLU()\n",
        "\n",
        "dropout = torch.nn.Dropout(p=0.3)\n",
        "\n",
        "bn1 = torch.nn.BatchNorm1d(100)\n",
        "bn2 = torch.nn.BatchNorm1d(100)"
      ],
      "execution_count": 8,
      "outputs": []
    },
    {
      "cell_type": "code",
      "metadata": {
        "id": "kdNmcIYhvQNs",
        "colab_type": "code",
        "colab": {
          "base_uri": "https://localhost:8080/",
          "height": 1000
        },
        "outputId": "195c68df-6280-4084-8518-1adaf3a8c7ea"
      },
      "source": [
        "# initialize weight of each layer through xavier initialization\n",
        "\n",
        "torch.nn.init.xavier_uniform_(linear1.weight)\n",
        "torch.nn.init.xavier_uniform_(linear2.weight)\n",
        "torch.nn.init.xavier_uniform_(linear3.weight)"
      ],
      "execution_count": 9,
      "outputs": [
        {
          "output_type": "execute_result",
          "data": {
            "text/plain": [
              "Parameter containing:\n",
              "tensor([[ 1.3072e-01,  1.9814e-01,  1.8934e-01,  3.0248e-02,  2.3331e-01,\n",
              "         -6.1776e-02,  1.7788e-01,  1.8208e-01, -3.1497e-02, -1.1475e-01,\n",
              "          2.1595e-01, -1.8682e-01,  2.3012e-01,  4.5476e-02,  1.1029e-01,\n",
              "         -2.7012e-02,  1.3552e-01, -6.4889e-02,  3.6765e-02,  1.0757e-02,\n",
              "         -8.4150e-04, -3.2775e-02,  1.3041e-02,  1.2794e-02, -1.0681e-01,\n",
              "         -2.3288e-01,  7.6600e-02, -1.2600e-01,  8.2899e-02,  1.9033e-01,\n",
              "         -1.5869e-01,  1.6418e-01, -6.7378e-02,  8.5599e-02, -1.3145e-01,\n",
              "         -1.9620e-01, -1.9974e-02,  1.3684e-01, -1.7222e-01,  6.6143e-02,\n",
              "         -4.6003e-02, -2.2426e-01,  8.4634e-02, -2.0383e-01,  1.3463e-01,\n",
              "          1.3541e-01,  1.9029e-01,  3.6678e-02,  2.0246e-01, -1.0174e-01,\n",
              "         -1.4966e-02, -4.8589e-02,  2.0126e-01,  1.2877e-01,  2.1136e-01,\n",
              "          3.1746e-02, -1.9490e-01, -2.0658e-01, -4.2215e-02,  2.2841e-01,\n",
              "          8.7683e-03,  2.8277e-02, -1.7528e-01,  2.2467e-01, -1.6006e-01,\n",
              "         -2.0618e-01, -9.2168e-02,  2.0633e-01, -9.1450e-02,  1.2386e-01,\n",
              "         -3.3534e-02,  1.6758e-01,  2.1428e-01, -9.5067e-02, -1.7907e-01,\n",
              "          8.5935e-02,  1.9184e-01,  8.1208e-02,  1.4447e-01, -6.8684e-02,\n",
              "         -4.4321e-02,  8.8333e-02,  1.2987e-01,  1.3725e-01, -1.7480e-01,\n",
              "         -8.5868e-02,  1.2518e-01, -7.2154e-02,  1.3687e-02,  8.6932e-02,\n",
              "         -1.9205e-01,  1.8763e-01, -1.8347e-01, -1.9212e-01,  7.8952e-02,\n",
              "          1.8988e-01, -1.0295e-01, -1.8946e-01,  9.2780e-02,  6.0790e-02],\n",
              "        [ 7.1314e-03,  1.0630e-01,  1.3850e-01,  1.7587e-01,  9.0255e-02,\n",
              "         -5.7141e-02, -1.5585e-01, -6.4538e-02, -1.6023e-03,  2.1853e-01,\n",
              "          1.2894e-01,  1.8794e-01,  3.4076e-02, -1.5083e-01,  1.8682e-01,\n",
              "         -6.3272e-02, -9.6052e-02, -2.1906e-01, -2.8429e-02,  2.0574e-01,\n",
              "          1.2726e-01,  1.0429e-02, -3.6065e-02, -2.6445e-02, -2.0590e-01,\n",
              "         -1.2998e-01,  1.7988e-01, -3.0256e-02, -9.5404e-02,  1.0802e-01,\n",
              "          8.1871e-03,  1.2649e-02,  9.9484e-02,  1.7530e-01, -1.5721e-01,\n",
              "          2.0917e-02, -6.1061e-02, -1.4674e-01, -1.6891e-01,  8.0490e-02,\n",
              "         -1.9338e-01,  6.6791e-02, -1.8888e-02,  1.9008e-01,  1.2431e-01,\n",
              "          4.6316e-02,  2.1786e-01, -7.8750e-02, -2.6364e-02,  1.6374e-01,\n",
              "         -1.4672e-01,  1.6544e-01,  2.8651e-02,  1.4856e-01,  2.0079e-01,\n",
              "         -1.2073e-01, -4.1652e-02,  1.2303e-01, -3.7752e-02, -3.9017e-02,\n",
              "         -1.7298e-01,  1.9029e-01,  9.7622e-02,  1.4608e-01,  1.4932e-01,\n",
              "         -1.5945e-01,  1.1576e-01,  1.4197e-01,  2.0336e-01, -1.7441e-01,\n",
              "          1.7322e-01, -1.8973e-01, -1.7980e-02, -2.1594e-01, -2.3020e-01,\n",
              "         -1.5398e-01,  1.3806e-01,  2.1918e-01,  9.3148e-02, -2.1864e-01,\n",
              "         -8.0657e-02, -1.0941e-01, -1.0940e-01,  5.0650e-02, -2.4151e-02,\n",
              "         -8.9776e-02, -1.6519e-01,  1.6293e-01, -1.1560e-01, -1.6067e-01,\n",
              "         -8.9410e-02,  9.0682e-02, -2.3011e-01, -1.0329e-01,  2.0343e-01,\n",
              "          1.7543e-01,  2.3512e-02,  9.3934e-02, -2.1242e-01,  1.6434e-02],\n",
              "        [ 1.2469e-01, -1.1560e-01, -1.6971e-02,  2.3016e-01, -5.2308e-02,\n",
              "          1.5654e-02, -9.3112e-02,  8.6002e-02, -1.5069e-01, -1.8884e-01,\n",
              "          1.5559e-01,  2.3065e-01,  8.7766e-03,  1.2356e-01,  4.4226e-02,\n",
              "          1.9082e-01,  1.1084e-02, -1.5037e-01,  8.2202e-02,  2.2745e-01,\n",
              "          1.0777e-01, -4.9639e-03, -2.6306e-02,  1.3813e-01,  8.8110e-02,\n",
              "          1.8894e-01,  1.2216e-02,  9.1484e-02,  3.3981e-02, -2.3737e-02,\n",
              "         -1.8583e-02,  1.5364e-01, -1.6109e-01, -2.1969e-01, -1.0689e-01,\n",
              "         -1.3416e-01,  1.6866e-01, -5.1068e-02,  7.9414e-02,  2.2497e-01,\n",
              "         -9.8174e-02,  3.9048e-02, -1.7099e-01, -2.3356e-02,  2.0591e-01,\n",
              "          8.6403e-02, -2.2285e-01, -1.3703e-01,  3.5366e-02, -1.3170e-02,\n",
              "         -1.9155e-01, -9.2630e-02,  1.0403e-01,  1.7160e-01,  1.0309e-01,\n",
              "         -1.7333e-01, -1.4240e-02,  1.2305e-01, -5.7530e-02, -1.7428e-01,\n",
              "         -4.6917e-02, -1.8326e-01, -1.5340e-01, -3.3939e-02, -9.3751e-02,\n",
              "          1.9128e-01,  5.8783e-02,  2.0414e-01, -2.1631e-01, -1.9726e-01,\n",
              "         -1.5448e-01,  1.8745e-01,  2.2854e-02, -1.2304e-01,  8.6963e-02,\n",
              "         -1.0327e-01, -3.8748e-02, -1.0943e-01, -8.3594e-02,  7.3336e-03,\n",
              "         -1.5285e-01, -1.7559e-01, -1.6671e-01,  1.6334e-01,  1.7555e-01,\n",
              "          6.3385e-03,  3.0686e-02, -1.8922e-02, -3.7299e-02, -1.5940e-01,\n",
              "          3.9110e-02,  1.2674e-01, -6.5970e-02,  1.7610e-01, -1.1503e-02,\n",
              "         -7.2758e-02, -1.4171e-02, -1.7923e-01,  1.3256e-02,  8.2530e-02],\n",
              "        [-1.4459e-01,  1.0615e-02, -3.5981e-02, -1.9271e-01,  7.3629e-02,\n",
              "         -4.3039e-02,  2.2402e-01, -1.2429e-01, -5.7298e-02, -1.6144e-01,\n",
              "          8.1607e-02,  5.9071e-03,  8.4458e-02,  2.0093e-01, -1.9861e-01,\n",
              "         -4.4142e-03,  8.1396e-02, -2.2562e-01,  7.3692e-02,  1.7197e-02,\n",
              "         -2.0009e-01,  7.4533e-02,  1.2668e-01,  6.2915e-02,  1.7096e-01,\n",
              "          3.2843e-02,  9.5831e-02, -1.9662e-01, -5.0515e-04, -3.2285e-02,\n",
              "         -6.2867e-02,  1.1119e-01,  1.2898e-01, -7.1404e-02, -6.3761e-02,\n",
              "         -1.2037e-01,  1.5148e-01,  2.4380e-02,  4.4365e-02,  2.0219e-01,\n",
              "         -8.1895e-02,  5.6860e-02, -1.6087e-01,  2.3367e-02,  9.9783e-03,\n",
              "          1.2707e-01,  6.0379e-02,  1.7165e-01, -1.4235e-01,  8.2220e-02,\n",
              "         -1.4084e-01, -8.7178e-02,  8.7011e-02, -7.7046e-02, -2.0053e-01,\n",
              "          9.7435e-02,  1.3592e-01, -1.1735e-01,  2.2787e-01, -6.5695e-02,\n",
              "         -2.4545e-02, -2.1279e-01,  7.3378e-02,  2.1056e-02, -1.7744e-01,\n",
              "         -1.3540e-01,  2.2807e-01,  1.8655e-01, -1.0642e-01,  4.5061e-02,\n",
              "         -1.6775e-01, -4.2613e-02,  2.3004e-01,  1.0198e-02,  1.7005e-01,\n",
              "         -1.3729e-01, -1.6852e-01,  5.3145e-02,  1.1183e-01, -3.6749e-02,\n",
              "         -2.1810e-01, -1.6894e-01,  1.6232e-01, -1.2529e-01,  8.2767e-03,\n",
              "         -3.8990e-02,  7.5093e-02, -6.6148e-02,  2.0558e-01,  1.1015e-01,\n",
              "          9.6416e-02,  2.0827e-01, -9.6442e-02, -1.0250e-01, -5.0799e-02,\n",
              "         -9.2985e-03,  6.7925e-02,  1.3524e-01,  8.6035e-02, -2.1387e-01],\n",
              "        [ 4.4409e-02,  1.1810e-01,  6.7868e-02, -1.6281e-01,  1.4436e-01,\n",
              "          1.7082e-01,  1.3436e-01, -6.9808e-02, -1.3984e-01, -1.0479e-01,\n",
              "          6.0653e-02,  4.5340e-02,  4.1186e-02,  6.3603e-02,  2.1991e-01,\n",
              "          1.1457e-01,  1.2333e-01,  2.0238e-01, -4.4076e-02, -1.7421e-01,\n",
              "          3.3625e-02,  1.2264e-02, -1.8769e-01,  1.4303e-01, -1.9332e-01,\n",
              "         -2.3313e-01, -1.8898e-01, -8.8915e-02, -7.8512e-02,  5.6621e-02,\n",
              "         -1.7895e-01, -2.6042e-02,  9.6560e-02, -1.3648e-01,  1.5630e-01,\n",
              "         -2.2168e-02,  1.3289e-01, -1.5550e-01,  2.7575e-02, -1.8784e-01,\n",
              "         -5.9669e-02, -9.8889e-02, -1.6988e-01,  1.4640e-02,  1.0501e-01,\n",
              "          9.0994e-02, -2.1816e-01,  7.6557e-02,  1.6053e-01,  2.1962e-01,\n",
              "          1.3578e-01,  2.2995e-01,  1.3437e-01, -4.4913e-02, -1.9880e-01,\n",
              "         -9.1221e-02,  3.9521e-02,  3.0424e-02,  5.6386e-02,  2.1794e-02,\n",
              "         -7.9202e-02,  1.8098e-01, -2.5048e-02, -2.0402e-01,  8.2396e-02,\n",
              "         -9.2591e-02,  1.1211e-01,  2.9829e-02, -1.1814e-02,  1.4069e-01,\n",
              "          2.5813e-02, -6.0877e-02,  2.1990e-01, -1.6497e-01,  1.5966e-01,\n",
              "         -1.4344e-01, -1.6928e-01,  2.1832e-01,  1.1280e-01, -7.2988e-02,\n",
              "         -1.3179e-01,  2.9264e-02,  1.2794e-01,  8.6659e-03, -9.4036e-02,\n",
              "          1.0568e-03,  4.9204e-02,  1.8019e-01,  2.2061e-02, -1.7222e-01,\n",
              "         -8.2616e-02,  1.6571e-01, -7.7884e-03, -8.2740e-02,  3.9919e-02,\n",
              "         -2.0639e-01, -1.0743e-01, -1.0678e-01,  2.6122e-02, -2.1236e-01],\n",
              "        [-1.6208e-01, -6.4905e-02,  1.3045e-01,  5.3858e-02, -2.2264e-01,\n",
              "          7.0269e-02,  8.6480e-02,  1.1527e-01,  1.6975e-01, -5.7445e-02,\n",
              "         -1.5498e-03, -7.2488e-02, -2.2824e-01,  1.1458e-01,  2.0664e-01,\n",
              "          2.2296e-01,  1.7809e-01,  1.6155e-01, -1.5579e-01,  1.0975e-02,\n",
              "         -7.3177e-02, -6.2662e-02, -2.2741e-01, -1.9343e-01,  1.4097e-01,\n",
              "          1.5308e-02,  5.7378e-02, -3.5066e-02, -1.1762e-01, -1.7819e-01,\n",
              "         -1.2309e-01, -2.4826e-02,  6.1637e-03, -1.7516e-01, -1.6624e-01,\n",
              "         -1.2739e-01, -4.2969e-02, -9.0732e-02,  1.7874e-01, -1.7743e-01,\n",
              "          1.4673e-01,  1.7953e-01, -2.1257e-01,  1.2246e-01,  1.0000e-01,\n",
              "          1.5496e-02,  2.2303e-01, -1.2999e-02, -9.2870e-03,  9.9212e-02,\n",
              "         -5.4239e-02, -5.0481e-02,  1.0051e-01, -1.7496e-01,  1.9285e-01,\n",
              "          1.2660e-01, -2.1467e-01,  1.6418e-01, -2.0354e-01, -3.3456e-02,\n",
              "         -1.2747e-01,  1.9964e-01, -1.0747e-01, -1.2042e-01,  1.8074e-01,\n",
              "          2.1875e-01,  4.3094e-02,  3.5343e-02,  2.8173e-02,  3.5833e-02,\n",
              "          1.0149e-01, -5.2220e-02,  1.0855e-02,  6.5258e-02, -1.5552e-01,\n",
              "         -1.8052e-01, -2.6001e-02,  1.0777e-01,  2.1401e-01,  2.0024e-01,\n",
              "          1.0870e-01, -2.2160e-01,  7.6010e-02, -6.2124e-02, -2.2386e-01,\n",
              "         -1.1964e-01, -4.6325e-02,  1.5196e-01,  3.1510e-02, -9.7286e-03,\n",
              "         -1.7193e-01,  2.0026e-01, -7.5324e-02, -9.8491e-02,  2.1901e-02,\n",
              "          1.0792e-01,  2.1020e-01, -1.7831e-01,  2.0469e-01,  1.7058e-01],\n",
              "        [ 3.8097e-02, -1.0889e-01, -1.2184e-01,  2.5977e-02, -2.0268e-01,\n",
              "          1.0935e-01,  4.8716e-02, -1.2208e-01, -3.9509e-02, -1.2980e-01,\n",
              "         -5.9986e-02, -8.9690e-02, -1.8925e-01,  1.1269e-01,  1.4195e-01,\n",
              "          9.1344e-02, -9.5565e-02, -1.9061e-01, -2.2341e-01,  6.6723e-02,\n",
              "         -3.1284e-02, -1.1462e-01,  8.7071e-02,  1.1458e-01, -5.7317e-03,\n",
              "          7.2964e-02, -9.9817e-02, -2.0451e-01, -3.0159e-02,  1.0613e-01,\n",
              "          9.7714e-02, -3.1356e-02,  2.2312e-01, -2.3239e-01, -1.1924e-01,\n",
              "         -9.1313e-02,  1.1218e-01, -7.3664e-02,  2.2813e-01,  1.3578e-01,\n",
              "          1.1964e-01,  1.8396e-01,  1.7156e-01,  1.3134e-01, -3.5442e-05,\n",
              "          1.4915e-01,  2.1826e-01, -1.1204e-01,  7.1162e-02, -8.4258e-02,\n",
              "         -9.3771e-02, -7.7180e-02, -2.1386e-02, -1.6388e-01,  2.1539e-01,\n",
              "          6.7866e-02, -1.9053e-01,  6.5485e-02,  1.4572e-02, -2.0636e-02,\n",
              "          5.9650e-02,  2.8846e-02, -1.7906e-01, -2.2530e-01,  1.7185e-02,\n",
              "         -1.1777e-02, -1.2832e-01,  1.0151e-01,  4.5576e-02,  1.8796e-01,\n",
              "         -1.4506e-01, -6.9685e-02, -1.6949e-01,  1.6272e-01,  1.6960e-01,\n",
              "         -3.2346e-02, -6.3630e-02,  2.3328e-01,  5.0428e-03,  5.8806e-03,\n",
              "          5.8257e-02, -1.1940e-02,  7.7365e-02, -5.1849e-02, -3.7469e-02,\n",
              "         -8.5348e-03,  1.9288e-01,  9.8428e-02,  5.7855e-02, -8.9507e-02,\n",
              "          1.7108e-01, -7.4720e-02, -8.0758e-02, -1.5723e-01,  5.6865e-02,\n",
              "          3.1069e-02,  8.8314e-02,  1.4878e-04,  8.8934e-02, -1.1234e-01],\n",
              "        [-1.9942e-01,  8.8808e-02,  4.5681e-02, -1.9889e-03,  1.5526e-01,\n",
              "         -9.7683e-02, -1.8334e-01,  1.7208e-01, -2.1259e-02, -1.1107e-01,\n",
              "         -2.2325e-01,  7.2230e-02, -1.4209e-01,  1.5231e-01, -1.2504e-01,\n",
              "         -1.2097e-01, -1.7890e-01,  2.0863e-01,  8.2026e-02, -1.9096e-01,\n",
              "         -2.1032e-02,  9.0940e-02,  6.9858e-02, -2.9493e-02,  1.2937e-01,\n",
              "          1.1571e-01, -7.8688e-03, -9.4802e-02,  2.3267e-01,  1.9622e-01,\n",
              "         -4.2506e-03, -1.5473e-01, -1.9726e-01,  1.1650e-01,  7.7991e-03,\n",
              "          1.1475e-01,  7.0039e-02,  5.6878e-02, -5.9044e-02,  1.3475e-01,\n",
              "         -2.1193e-01,  1.3947e-01, -2.1012e-01, -2.7735e-02,  7.0718e-03,\n",
              "          1.3557e-01, -1.3140e-02, -4.6986e-03, -1.7429e-01,  1.6710e-01,\n",
              "         -1.0590e-01, -2.9446e-02, -1.9546e-01,  8.0150e-02, -1.0617e-01,\n",
              "          7.8790e-02,  1.3384e-01,  1.7303e-01, -2.0904e-02, -3.7616e-02,\n",
              "         -2.1335e-01,  1.5131e-02, -4.1465e-02,  1.0878e-01,  1.7295e-01,\n",
              "          1.9388e-01,  6.1770e-03, -1.2898e-01,  8.4329e-02, -1.6214e-02,\n",
              "         -1.3235e-01, -8.6251e-02,  3.0816e-02,  2.2875e-01, -1.3847e-01,\n",
              "         -1.1339e-01, -1.7606e-01,  2.1323e-01, -1.2578e-01,  9.2212e-02,\n",
              "          1.6298e-01, -1.3354e-01, -5.9716e-02, -1.7780e-01, -7.0524e-02,\n",
              "         -1.7838e-01,  1.0533e-01, -7.9899e-02, -2.3251e-01, -5.5546e-03,\n",
              "          2.2529e-01,  5.2831e-02,  1.5238e-01,  2.3262e-01,  1.2171e-01,\n",
              "          2.0232e-01, -4.1521e-02,  1.6588e-01, -1.3888e-02, -4.9567e-02],\n",
              "        [ 1.5948e-01, -2.0198e-02, -1.3222e-01, -8.2904e-02,  2.2052e-01,\n",
              "         -3.0570e-02, -5.9056e-02,  1.2453e-01, -2.8824e-02,  1.4276e-01,\n",
              "         -2.6982e-02, -1.5700e-01,  8.2802e-02,  1.5547e-01,  3.7978e-02,\n",
              "         -1.6880e-01, -1.2910e-01, -1.1769e-01,  8.5902e-02, -9.2890e-03,\n",
              "          1.6914e-01, -1.5714e-01,  1.7878e-01, -6.6388e-03,  1.2990e-01,\n",
              "         -2.2091e-01, -2.0320e-01,  2.2069e-01,  2.0345e-01,  1.3929e-01,\n",
              "         -1.1413e-01, -6.1578e-02, -1.7163e-01,  3.2171e-03, -1.7731e-01,\n",
              "         -1.5438e-01, -1.7445e-01,  7.2338e-02, -5.7834e-02, -1.3257e-01,\n",
              "         -1.8024e-01, -1.3571e-01,  1.0914e-01,  3.0257e-02,  8.1047e-02,\n",
              "         -1.3304e-01, -1.1288e-01, -1.7882e-01,  1.8477e-01,  8.3513e-02,\n",
              "         -8.4644e-02, -2.2545e-01,  1.7640e-01, -2.6489e-02, -7.4140e-02,\n",
              "         -1.9589e-01, -3.4470e-02,  1.4736e-01,  1.2791e-01,  8.1473e-02,\n",
              "         -8.4303e-03,  1.4790e-01, -2.2320e-01,  1.5438e-01, -2.7413e-02,\n",
              "         -2.4004e-02,  1.1688e-01,  1.2595e-01, -1.9891e-01, -5.9121e-02,\n",
              "          1.7621e-01, -1.8266e-01, -8.9206e-02,  2.0948e-01, -1.9621e-01,\n",
              "          4.3870e-02, -2.3133e-01,  1.5072e-01,  9.8825e-03, -1.2463e-01,\n",
              "         -2.1174e-01,  1.2039e-01,  1.8986e-01,  2.1180e-01,  1.6026e-01,\n",
              "          6.2068e-02, -4.5437e-02, -3.2801e-02, -1.0345e-01, -5.5333e-02,\n",
              "          1.4527e-01, -7.4724e-02, -1.6313e-01, -3.9463e-02,  1.0101e-01,\n",
              "         -1.6609e-01,  1.9263e-01, -1.8611e-01, -1.2804e-01, -1.7279e-01],\n",
              "        [ 2.5017e-02, -1.1104e-01, -2.0483e-01, -2.2008e-01, -1.3248e-01,\n",
              "          1.3070e-01,  1.7287e-01, -6.0691e-02,  9.0221e-02,  4.2342e-02,\n",
              "         -2.9534e-02, -1.4418e-01, -2.3011e-01,  2.2486e-01, -1.4044e-01,\n",
              "          8.2691e-02, -2.3276e-01,  2.1425e-01,  1.9336e-01,  1.7482e-01,\n",
              "          2.8867e-02, -3.7506e-02,  8.2637e-02, -1.1044e-01, -3.5469e-02,\n",
              "          2.1515e-01, -2.1195e-02,  9.7314e-02,  5.2952e-02, -1.9106e-01,\n",
              "         -9.9636e-02, -1.9667e-01,  2.0985e-01, -6.8355e-02, -1.5653e-01,\n",
              "         -1.9382e-01, -1.0342e-02,  4.7144e-02, -1.6855e-01,  5.3451e-03,\n",
              "          1.1243e-01, -1.0480e-01, -1.5867e-01,  1.1099e-03, -1.4259e-01,\n",
              "         -2.1476e-01,  8.7560e-02,  1.4806e-02, -2.7837e-02, -7.0433e-02,\n",
              "         -1.5204e-02,  8.0154e-02,  2.7309e-02, -5.7897e-03,  1.1979e-01,\n",
              "          2.0506e-01, -4.4554e-02,  3.5803e-02,  2.4645e-02, -1.3102e-01,\n",
              "          1.7780e-01,  8.8374e-02, -1.4953e-01, -2.2755e-01, -1.0266e-01,\n",
              "         -1.9247e-01,  1.9117e-01, -7.0411e-02,  9.9741e-02,  2.3462e-02,\n",
              "         -1.4235e-01, -9.8972e-02,  2.2504e-01, -1.1632e-01,  2.4227e-02,\n",
              "          1.3073e-02,  1.2735e-01, -1.9668e-01, -1.3000e-02, -1.2703e-01,\n",
              "          2.5023e-02,  8.4841e-02, -8.8437e-02,  1.4974e-01,  9.7237e-02,\n",
              "          6.9197e-02,  8.2277e-02,  7.7210e-02,  1.3871e-01, -1.0210e-01,\n",
              "         -1.0048e-02, -6.1673e-02,  7.1197e-02,  4.4312e-02, -1.3660e-01,\n",
              "         -2.3307e-01, -4.4690e-02, -1.3837e-02, -7.7651e-03,  1.8211e-01]],\n",
              "       requires_grad=True)"
            ]
          },
          "metadata": {
            "tags": []
          },
          "execution_count": 9
        }
      ]
    },
    {
      "cell_type": "code",
      "metadata": {
        "id": "vE2j6cA0vhT9",
        "colab_type": "code",
        "colab": {}
      },
      "source": [
        "# use torch.nn.Sequential to define model(order:linear-Batch Normalization Layer - ReLU- DropOut)\n",
        "\n",
        "model = torch.nn.Sequential(linear1, bn1, relu, dropout, \n",
        "                            linear2, bn2, relu, dropout, \n",
        "                            linear3).to(device)\n",
        "\n",
        "# Loss Function (CrossEntropy)\n",
        "\n",
        "criterion = torch.nn.CrossEntropyLoss().to(device)\n",
        "\n",
        "# optimizer (Adam optimizer)\n",
        "\n",
        "optimizer = torch.optim.Adam(model.parameters(), lr=learning_rate)\n",
        "\n",
        "# cost calculation variable\n",
        "\n",
        "train_total_batch = len(train_loader)"
      ],
      "execution_count": 10,
      "outputs": []
    },
    {
      "cell_type": "code",
      "metadata": {
        "id": "E_MrEEYkwFzQ",
        "colab_type": "code",
        "colab": {
          "base_uri": "https://localhost:8080/",
          "height": 305
        },
        "outputId": "377c3535-71f9-4941-c27f-f574a3be171e"
      },
      "source": [
        "# Training epoch \n",
        "\n",
        "for epoch in range(training_epochs):\n",
        "    model.train()\n",
        "    avg_cost = 0  # cost 초기값 설정\n",
        "    \n",
        "    #use back propagation & optimizer to optimize loss\n",
        "    for X, Y in train_loader:\n",
        "        X = X.view(-1, 28 * 28).to(device)\n",
        "        Y = Y.to(device)\n",
        "        \n",
        "        optimizer.zero_grad()\n",
        "        hypothesis = model(X) \n",
        "        cost = criterion(hypothesis, Y) \n",
        "        cost.backward()\n",
        "        optimizer.step() \n",
        "        \n",
        "        avg_cost += cost / train_total_batch\n",
        "        \n",
        "        \n",
        "    print('Epoch:', '%04d' % (epoch + 1), 'cost =', '{:.9f}'.format(avg_cost))\n",
        "    \n",
        "print('Learning finished')"
      ],
      "execution_count": 11,
      "outputs": [
        {
          "output_type": "stream",
          "text": [
            "Epoch: 0001 cost = 0.516279161\n",
            "Epoch: 0002 cost = 0.380112588\n",
            "Epoch: 0003 cost = 0.333815247\n",
            "Epoch: 0004 cost = 0.314076543\n",
            "Epoch: 0005 cost = 0.294467062\n",
            "Epoch: 0006 cost = 0.293753892\n",
            "Epoch: 0007 cost = 0.276014209\n",
            "Epoch: 0008 cost = 0.283835918\n",
            "Epoch: 0009 cost = 0.262976766\n",
            "Epoch: 0010 cost = 0.261742920\n",
            "Epoch: 0011 cost = 0.263456464\n",
            "Epoch: 0012 cost = 0.242976040\n",
            "Epoch: 0013 cost = 0.247123137\n",
            "Epoch: 0014 cost = 0.239156827\n",
            "Epoch: 0015 cost = 0.237752944\n",
            "Learning finished\n"
          ],
          "name": "stdout"
        }
      ]
    },
    {
      "cell_type": "code",
      "metadata": {
        "id": "btG3z7eQwScZ",
        "colab_type": "code",
        "colab": {
          "base_uri": "https://localhost:8080/",
          "height": 163
        },
        "outputId": "d5fe2328-d163-4d48-822b-3c4180f36b39"
      },
      "source": [
        "# check test data model accuracy \n",
        "\n",
        "\n",
        "with torch.no_grad():\n",
        "    model.eval() #evaluation mode (no dropout)\n",
        "    \n",
        "    X_test = mnist_test.test_data.view(-1, 28 * 28).float().to(device)\n",
        "    Y_test = mnist_test.test_labels.to(device)\n",
        "\n",
        "    prediction = model(X_test)\n",
        "    \n",
        "    correct_prediction = torch.argmax(prediction, 1) == Y_test # prediction 값과 실제 test data 값이 같은가 (correct = 1)\n",
        "    accuracy = correct_prediction.float().mean() # 0 or 1 값들의 평균 >>> 정확도\n",
        "    print('Accuracy:', accuracy.item())\n",
        "    \n",
        "    ##compare label & prediction in test set (random) \n",
        "    r = random.randint(0, len(mnist_test) - 1) # randint: 범위 내 임의의 정수(난수) 추출 \n",
        "    X_single_data = mnist_test.test_data[r:r + 1].view(-1, 28 * 28).float().to(device)\n",
        "    Y_single_data = mnist_test.test_labels[r:r + 1].to(device)\n",
        "    \n",
        "    print('Label: ', Y_single_data.item())\n",
        "    single_prediction = model(X_single_data)\n",
        "    print('Prediction: ', torch.argmax(single_prediction, 1).item())"
      ],
      "execution_count": 12,
      "outputs": [
        {
          "output_type": "stream",
          "text": [
            "Accuracy: 0.9264000058174133\n",
            "Label:  1\n",
            "Prediction:  1\n"
          ],
          "name": "stdout"
        },
        {
          "output_type": "stream",
          "text": [
            "/usr/local/lib/python3.6/dist-packages/torchvision/datasets/mnist.py:60: UserWarning: test_data has been renamed data\n",
            "  warnings.warn(\"test_data has been renamed data\")\n",
            "/usr/local/lib/python3.6/dist-packages/torchvision/datasets/mnist.py:50: UserWarning: test_labels has been renamed targets\n",
            "  warnings.warn(\"test_labels has been renamed targets\")\n"
          ],
          "name": "stderr"
        }
      ]
    },
    {
      "cell_type": "markdown",
      "metadata": {
        "id": "pjgHtepCxAnZ",
        "colab_type": "text"
      },
      "source": [
        "##Hidden Node"
      ]
    },
    {
      "cell_type": "markdown",
      "metadata": {
        "id": "HGH796-NxAxH",
        "colab_type": "text"
      },
      "source": [
        "1. increase the nodes (784,400,200,10)"
      ]
    },
    {
      "cell_type": "code",
      "metadata": {
        "id": "Ir7mTEwnw9R1",
        "colab_type": "code",
        "colab": {}
      },
      "source": [
        "linear4 = torch.nn.Linear(784, 400, bias=True)\n",
        "linear5 = torch.nn.Linear(400, 200, bias=True)\n",
        "linear6 = torch.nn.Linear(200, 10, bias=True)\n",
        "\n",
        "bn3 = torch.nn.BatchNorm1d(400)\n",
        "bn4 = torch.nn.BatchNorm1d(200)"
      ],
      "execution_count": 14,
      "outputs": []
    },
    {
      "cell_type": "code",
      "metadata": {
        "id": "YTbEgVUlxM_e",
        "colab_type": "code",
        "colab": {
          "base_uri": "https://localhost:8080/",
          "height": 179
        },
        "outputId": "e11feaac-a700-4777-e1f0-c8f5acd48df3"
      },
      "source": [
        "torch.nn.init.xavier_uniform_(linear4.weight)\n",
        "torch.nn.init.xavier_uniform_(linear5.weight)\n",
        "torch.nn.init.xavier_uniform_(linear6.weight)"
      ],
      "execution_count": 15,
      "outputs": [
        {
          "output_type": "execute_result",
          "data": {
            "text/plain": [
              "Parameter containing:\n",
              "tensor([[ 0.0158,  0.1454,  0.1115,  ...,  0.0397,  0.0642, -0.1611],\n",
              "        [-0.0089,  0.0764, -0.1661,  ...,  0.0543,  0.0031, -0.1407],\n",
              "        [-0.1163, -0.1425, -0.1655,  ..., -0.1092, -0.0141, -0.0067],\n",
              "        ...,\n",
              "        [ 0.1253,  0.1041,  0.1023,  ...,  0.1061,  0.1265, -0.0555],\n",
              "        [-0.0189,  0.1562, -0.1390,  ..., -0.0685,  0.1369, -0.0029],\n",
              "        [-0.1500,  0.0160, -0.1401,  ..., -0.0850, -0.0647,  0.1299]],\n",
              "       requires_grad=True)"
            ]
          },
          "metadata": {
            "tags": []
          },
          "execution_count": 15
        }
      ]
    },
    {
      "cell_type": "code",
      "metadata": {
        "id": "9IQhumicxPAP",
        "colab_type": "code",
        "colab": {}
      },
      "source": [
        "#new model\n",
        "model2 = torch.nn.Sequential(linear4, bn3, relu, dropout, \n",
        "                            linear5, bn4, relu, dropout, \n",
        "                            linear6).to(device)"
      ],
      "execution_count": 16,
      "outputs": []
    },
    {
      "cell_type": "code",
      "metadata": {
        "id": "s4BaUhmkxRzv",
        "colab_type": "code",
        "colab": {}
      },
      "source": [
        "\n",
        "criterion = torch.nn.CrossEntropyLoss().to(device)\n",
        "optimizer = torch.optim.Adam(model2.parameters(), lr=learning_rate)"
      ],
      "execution_count": 17,
      "outputs": []
    },
    {
      "cell_type": "code",
      "metadata": {
        "id": "ROQH1mK1xUaC",
        "colab_type": "code",
        "colab": {
          "base_uri": "https://localhost:8080/",
          "height": 305
        },
        "outputId": "186aff6b-213b-4475-8fe4-b52319281f81"
      },
      "source": [
        "# Training epoch \n",
        "\n",
        "for epoch in range(training_epochs):\n",
        "    model2.train()\n",
        "    avg_cost = 0  # cost 초기값 설정\n",
        "    \n",
        "    #train dataset을 불러오고(X,Y 불러오기), back propagation과 optimizer를 사용하여 loss를 최적화하는 코드 \n",
        "    for X, Y in train_loader:\n",
        "        X = X.view(-1, 28 * 28).to(device)\n",
        "        Y = Y.to(device)\n",
        "        \n",
        "        optimizer.zero_grad()\n",
        "        hypothesis = model2(X) \n",
        "        cost = criterion(hypothesis, Y) \n",
        "        cost.backward()\n",
        "        optimizer.step() \n",
        "        \n",
        "        avg_cost += cost / train_total_batch\n",
        "        \n",
        "        \n",
        "    print('Epoch:', '%04d' % (epoch + 1), 'cost =', '{:.9f}'.format(avg_cost))\n",
        "    \n",
        "print('Learning finished')"
      ],
      "execution_count": 18,
      "outputs": [
        {
          "output_type": "stream",
          "text": [
            "Epoch: 0001 cost = 0.434152335\n",
            "Epoch: 0002 cost = 0.303556889\n",
            "Epoch: 0003 cost = 0.265937448\n",
            "Epoch: 0004 cost = 0.244121760\n",
            "Epoch: 0005 cost = 0.233371511\n",
            "Epoch: 0006 cost = 0.218170539\n",
            "Epoch: 0007 cost = 0.205545351\n",
            "Epoch: 0008 cost = 0.206433401\n",
            "Epoch: 0009 cost = 0.194864497\n",
            "Epoch: 0010 cost = 0.187096596\n",
            "Epoch: 0011 cost = 0.191462398\n",
            "Epoch: 0012 cost = 0.180904567\n",
            "Epoch: 0013 cost = 0.181844175\n",
            "Epoch: 0014 cost = 0.179348946\n",
            "Epoch: 0015 cost = 0.169732019\n",
            "Learning finished\n"
          ],
          "name": "stdout"
        }
      ]
    },
    {
      "cell_type": "code",
      "metadata": {
        "id": "Ipj6fFxbxaBi",
        "colab_type": "code",
        "colab": {
          "base_uri": "https://localhost:8080/",
          "height": 163
        },
        "outputId": "dff2424c-7c45-4196-99d4-5a6e1fab225c"
      },
      "source": [
        "\n",
        "with torch.no_grad():\n",
        "    model2.eval() #evaluation mode (no dropout)\n",
        "    \n",
        "    X_test = mnist_test.test_data.view(-1, 28 * 28).float().to(device)\n",
        "    Y_test = mnist_test.test_labels.to(device)\n",
        "\n",
        "    prediction = model2(X_test)\n",
        "    \n",
        "    correct_prediction = torch.argmax(prediction, 1) == Y_test \n",
        "    accuracy = correct_prediction.float().mean() \n",
        "    print('Accuracy:', accuracy.item())\n",
        "    \n",
        "    r = random.randint(0, len(mnist_test) - 1) \n",
        "    X_single_data = mnist_test.test_data[r:r + 1].view(-1, 28 * 28).float().to(device)\n",
        "    Y_single_data = mnist_test.test_labels[r:r + 1].to(device)\n",
        "    \n",
        "    print('Label: ', Y_single_data.item())\n",
        "    single_prediction = model2(X_single_data)\n",
        "    print('Prediction: ', torch.argmax(single_prediction, 1).item())"
      ],
      "execution_count": 19,
      "outputs": [
        {
          "output_type": "stream",
          "text": [
            "Accuracy: 0.8615000247955322\n",
            "Label:  1\n",
            "Prediction:  1\n"
          ],
          "name": "stdout"
        },
        {
          "output_type": "stream",
          "text": [
            "/usr/local/lib/python3.6/dist-packages/torchvision/datasets/mnist.py:60: UserWarning: test_data has been renamed data\n",
            "  warnings.warn(\"test_data has been renamed data\")\n",
            "/usr/local/lib/python3.6/dist-packages/torchvision/datasets/mnist.py:50: UserWarning: test_labels has been renamed targets\n",
            "  warnings.warn(\"test_labels has been renamed targets\")\n"
          ],
          "name": "stderr"
        }
      ]
    },
    {
      "cell_type": "markdown",
      "metadata": {
        "id": "xH-7lGnGybdS",
        "colab_type": "text"
      },
      "source": [
        "accuracy가 감소...?"
      ]
    },
    {
      "cell_type": "markdown",
      "metadata": {
        "id": "5I3aVQtOzFeF",
        "colab_type": "text"
      },
      "source": [
        "2. decrease the node #"
      ]
    },
    {
      "cell_type": "code",
      "metadata": {
        "id": "0H9yFFiizCt7",
        "colab_type": "code",
        "colab": {}
      },
      "source": [
        "linear7 = torch.nn.Linear(784, 200, bias=True)\n",
        "linear8 = torch.nn.Linear(200, 50, bias=True)\n",
        "linear9 = torch.nn.Linear(50, 10, bias=True)\n",
        "\n",
        "bn5 = torch.nn.BatchNorm1d(200)\n",
        "bn6 = torch.nn.BatchNorm1d(50)"
      ],
      "execution_count": 21,
      "outputs": []
    },
    {
      "cell_type": "code",
      "metadata": {
        "id": "bM1BP31WzS3W",
        "colab_type": "code",
        "colab": {
          "base_uri": "https://localhost:8080/",
          "height": 1000
        },
        "outputId": "baeecbfa-a212-4968-e0bd-97fcebf741e8"
      },
      "source": [
        "torch.nn.init.xavier_uniform_(linear7.weight)\n",
        "torch.nn.init.xavier_uniform_(linear8.weight)\n",
        "torch.nn.init.xavier_uniform_(linear9.weight)"
      ],
      "execution_count": 22,
      "outputs": [
        {
          "output_type": "execute_result",
          "data": {
            "text/plain": [
              "Parameter containing:\n",
              "tensor([[ 5.5382e-02,  2.0352e-02,  1.4677e-01, -1.8797e-01,  1.1940e-01,\n",
              "          1.7699e-02, -1.1697e-01, -2.6360e-01,  1.5180e-01, -1.8004e-01,\n",
              "         -1.6300e-01,  1.7950e-01,  1.1045e-01,  1.1680e-01, -9.8153e-02,\n",
              "          2.8324e-01, -1.0570e-01,  1.9990e-02, -2.3745e-01, -9.8609e-02,\n",
              "          4.1862e-02, -1.9429e-01,  2.8855e-01, -1.3421e-01, -2.8547e-01,\n",
              "          3.1183e-01, -1.7423e-02,  9.3613e-02,  1.5501e-01, -3.0459e-01,\n",
              "          2.9480e-01, -8.4449e-02,  1.9942e-01, -8.7541e-02,  4.7364e-02,\n",
              "          7.7128e-02, -2.6937e-01,  6.0224e-03,  6.1231e-02, -1.0890e-01,\n",
              "         -2.7680e-01,  5.7228e-04,  2.8817e-01, -1.3726e-01, -2.6335e-01,\n",
              "         -1.9567e-01,  2.9440e-01, -4.0337e-02, -2.0285e-02,  3.3141e-02],\n",
              "        [-2.2963e-01, -1.2430e-01,  4.1255e-02,  2.7440e-01, -1.1553e-01,\n",
              "         -1.7844e-01,  1.8403e-01, -2.2876e-01, -5.1220e-02,  2.4598e-01,\n",
              "          1.6256e-01, -2.5505e-01, -3.1220e-01, -1.6838e-01, -2.8551e-01,\n",
              "          2.1887e-01, -3.0077e-01,  1.7998e-01, -2.1835e-01,  1.0543e-01,\n",
              "          2.5777e-01, -2.9966e-01,  2.6134e-01,  2.3265e-01, -6.9057e-02,\n",
              "         -3.1354e-02, -5.2366e-02,  5.3837e-02,  2.8481e-01,  1.3197e-01,\n",
              "         -1.1014e-01,  7.3303e-02, -2.8270e-01,  2.7974e-02,  1.9493e-01,\n",
              "          1.8832e-01, -1.8351e-01,  2.8814e-01, -7.0095e-02, -3.7731e-02,\n",
              "          2.2640e-01, -2.9620e-01,  2.2455e-01,  1.1326e-01,  1.3866e-01,\n",
              "         -7.0725e-02,  8.7003e-02, -1.2393e-01, -2.6232e-01, -1.4842e-02],\n",
              "        [ 2.6521e-01,  3.3359e-02, -6.0266e-03, -1.7610e-02,  2.5942e-01,\n",
              "          2.5481e-01, -2.8572e-01, -1.6029e-01,  1.6359e-01, -1.4985e-01,\n",
              "         -1.2627e-01,  1.7427e-01, -2.7590e-01,  2.0079e-01, -2.7946e-01,\n",
              "         -1.1427e-01,  4.1236e-02,  9.4805e-02,  1.2313e-01, -4.1860e-02,\n",
              "          1.3185e-01, -1.4451e-02,  1.1046e-01,  2.4136e-01, -3.0674e-01,\n",
              "         -2.8381e-01,  5.9574e-02, -1.0709e-01,  7.5094e-02, -2.1355e-02,\n",
              "          1.5831e-01,  1.2389e-01,  1.2570e-01,  1.3186e-01, -1.3469e-01,\n",
              "          2.4573e-01,  2.0765e-01,  2.7229e-01,  1.7955e-01, -2.3119e-01,\n",
              "         -1.2583e-01,  8.7590e-02, -2.6249e-01, -1.0469e-01, -2.1894e-01,\n",
              "          2.5933e-01,  2.7144e-01, -1.5771e-01, -2.9779e-01, -7.2973e-02],\n",
              "        [-3.7531e-02, -2.9728e-01,  1.3830e-01,  3.0840e-01,  7.5023e-02,\n",
              "          1.6312e-01, -1.2175e-01,  1.6674e-01, -1.0275e-01,  1.9798e-01,\n",
              "          6.1752e-02, -3.8387e-02,  9.2882e-02,  4.6941e-02, -6.0640e-03,\n",
              "         -2.2821e-01, -2.7408e-01,  1.2642e-01, -2.1946e-01,  2.0982e-01,\n",
              "          2.2945e-01,  1.3096e-01, -1.1107e-01,  3.0447e-01, -2.7794e-01,\n",
              "         -3.1409e-01,  1.7976e-02, -1.0926e-02, -2.8978e-01, -9.4751e-02,\n",
              "         -2.5546e-01, -2.0042e-01,  1.1599e-01,  3.1546e-02, -2.1290e-01,\n",
              "          3.0347e-01, -2.6915e-01,  1.5495e-01,  2.2343e-01, -1.1104e-01,\n",
              "          2.0791e-01, -1.0391e-01,  2.9140e-01,  2.2482e-01, -1.5438e-01,\n",
              "          2.2524e-01, -1.2522e-01,  4.6459e-02,  2.0556e-01,  1.3549e-01],\n",
              "        [-1.1465e-01,  2.9877e-01,  2.1013e-01,  2.6084e-01, -8.0595e-02,\n",
              "         -1.1483e-02,  2.7349e-01,  1.1429e-01,  1.0718e-01,  9.5515e-02,\n",
              "          1.0968e-01, -1.8163e-01, -4.9302e-02, -9.4645e-03, -6.2282e-02,\n",
              "          6.0617e-02, -3.7432e-02,  1.3311e-01, -3.4071e-02, -3.7685e-02,\n",
              "          6.9853e-02,  2.6514e-01,  2.1912e-01,  1.9532e-01,  7.8936e-02,\n",
              "         -1.9964e-02,  2.4858e-02, -1.6369e-01, -8.1572e-02, -7.2670e-02,\n",
              "         -2.7380e-01, -1.2155e-01, -1.3464e-01,  2.4040e-01,  8.2497e-02,\n",
              "         -2.6635e-01, -1.5205e-01,  2.8305e-01, -4.9811e-02,  2.1522e-01,\n",
              "          1.3965e-01,  1.9682e-01,  3.0437e-02, -1.0582e-01, -1.1468e-01,\n",
              "          5.1774e-02, -5.9312e-02,  1.2197e-01, -7.2355e-02, -7.1534e-02],\n",
              "        [ 2.9329e-02,  4.8811e-02, -2.3120e-01, -5.0789e-02, -2.9600e-01,\n",
              "          1.0376e-01,  1.9836e-01,  2.8789e-02, -9.2645e-02,  1.9205e-01,\n",
              "          2.4083e-01,  3.0631e-01, -1.8863e-01,  2.8022e-01, -1.4598e-01,\n",
              "         -7.6007e-02, -2.2521e-01, -3.1420e-01, -1.4798e-01, -3.0353e-01,\n",
              "          2.7621e-01, -1.9654e-01,  3.0156e-01, -1.0441e-01, -3.1173e-01,\n",
              "         -1.6925e-01, -2.8688e-01,  7.5233e-02,  1.2662e-02,  3.9689e-02,\n",
              "          2.5416e-01, -1.0528e-01, -5.1948e-02, -3.0728e-01, -5.3106e-02,\n",
              "          8.1187e-03,  2.7789e-01,  7.8366e-02,  1.1170e-01, -1.2988e-02,\n",
              "          1.8891e-01, -8.5870e-02, -4.4253e-02, -3.5744e-02,  3.9407e-02,\n",
              "          2.3748e-01,  7.2885e-02,  5.6948e-02, -6.5528e-02, -1.6719e-01],\n",
              "        [-1.5258e-01,  2.4897e-01, -6.2846e-02,  2.9460e-01, -4.5806e-02,\n",
              "          2.1895e-01, -6.8804e-02, -1.5066e-01,  1.5445e-01,  9.1667e-02,\n",
              "          9.6784e-02,  2.0384e-01, -3.4143e-02,  1.1685e-01,  7.0791e-02,\n",
              "          2.8108e-01,  1.7724e-01, -2.4702e-01, -1.1496e-01,  3.0759e-01,\n",
              "         -2.2204e-01,  2.8921e-02,  1.9654e-01,  4.1639e-02, -2.7515e-01,\n",
              "         -2.1674e-01, -2.8404e-01,  1.4419e-01, -2.7541e-01, -2.4156e-01,\n",
              "          1.8252e-01, -1.7259e-02,  2.7771e-01,  3.6622e-02,  6.5331e-02,\n",
              "          2.4625e-01,  1.0489e-01,  1.3467e-01, -8.6564e-03, -1.3599e-01,\n",
              "          2.6446e-01,  1.6498e-01,  1.3109e-01, -1.3068e-01, -2.3580e-01,\n",
              "         -2.3710e-02, -1.3522e-01, -1.1121e-01,  8.6993e-02,  8.3698e-02],\n",
              "        [ 1.0654e-01, -1.4655e-01,  8.3918e-02, -1.4367e-01,  1.8133e-01,\n",
              "          1.3352e-01, -2.8750e-01,  8.0233e-02,  2.6776e-01, -1.1586e-01,\n",
              "         -2.8578e-02,  1.2080e-01, -2.7925e-01, -5.1293e-02,  2.6848e-01,\n",
              "         -1.8790e-01, -1.8138e-02, -7.4354e-02,  1.6012e-02,  2.1894e-01,\n",
              "         -2.7546e-01,  1.1210e-02,  1.5303e-01, -2.8172e-01, -1.9850e-03,\n",
              "          1.6520e-01, -4.6988e-02, -2.3106e-01,  3.1011e-01,  2.1849e-01,\n",
              "         -3.3135e-02,  3.0432e-01,  2.4061e-01, -2.4737e-02,  6.6105e-02,\n",
              "         -1.5273e-01,  2.8493e-01,  1.4114e-01,  6.5891e-02,  5.6601e-02,\n",
              "          2.4619e-01, -5.3081e-02, -1.6065e-01, -2.9395e-01,  8.9943e-03,\n",
              "          2.6061e-01,  1.1356e-01, -2.7841e-01,  4.2632e-03, -2.5946e-01],\n",
              "        [ 7.0765e-02,  1.8959e-01, -2.6275e-01,  2.0498e-02, -1.4888e-01,\n",
              "         -6.8780e-02, -8.0863e-02, -2.6108e-01, -2.7502e-01, -2.7735e-01,\n",
              "         -1.6718e-01,  6.4103e-02,  2.8103e-01, -1.3106e-01,  9.6850e-02,\n",
              "          2.6092e-01,  2.8379e-01,  1.6494e-01, -2.2239e-01, -2.2430e-01,\n",
              "         -1.9519e-01, -1.2298e-01,  2.1586e-01,  9.7373e-02,  6.9409e-02,\n",
              "          1.7556e-01, -2.9084e-01, -2.3625e-01,  2.7905e-01,  4.5716e-02,\n",
              "          2.7298e-01,  2.1058e-01, -2.5785e-05, -3.0577e-01, -2.4265e-01,\n",
              "          8.0558e-02, -2.1615e-01,  2.3968e-01,  2.3856e-01,  3.4873e-02,\n",
              "         -2.9529e-01,  2.3886e-01,  3.9572e-02, -6.0074e-02,  3.2339e-02,\n",
              "         -2.3347e-01, -1.1743e-01, -2.9788e-01,  2.5929e-01,  1.1263e-02],\n",
              "        [-2.9260e-01, -2.1086e-01, -9.5351e-02,  2.9663e-01, -1.1392e-01,\n",
              "         -2.6250e-01,  3.0295e-01, -2.7447e-01, -2.9272e-01, -1.8683e-01,\n",
              "         -1.1341e-01, -2.7591e-01, -5.5188e-02, -3.0171e-01,  3.9225e-02,\n",
              "         -8.8249e-02,  1.8191e-01, -2.2466e-01,  2.7362e-02,  1.1460e-01,\n",
              "         -1.2588e-01,  1.7905e-01, -1.5934e-02, -1.1449e-01, -7.7454e-02,\n",
              "          3.1602e-01, -1.3433e-01,  1.6370e-01,  5.5467e-02,  6.1744e-02,\n",
              "         -1.4951e-01, -2.9073e-01,  1.5195e-01,  1.9055e-01, -1.9070e-01,\n",
              "         -6.3817e-02, -1.7285e-01,  2.8986e-01, -2.2310e-01,  8.2964e-02,\n",
              "          1.5552e-01,  1.1664e-01,  8.1522e-02, -2.6998e-01,  1.6524e-01,\n",
              "          2.5912e-01,  2.0850e-01, -2.0484e-01, -1.3525e-01,  2.9438e-01]],\n",
              "       requires_grad=True)"
            ]
          },
          "metadata": {
            "tags": []
          },
          "execution_count": 22
        }
      ]
    },
    {
      "cell_type": "code",
      "metadata": {
        "id": "XZGNEqIyzUOy",
        "colab_type": "code",
        "colab": {}
      },
      "source": [
        "# new model\n",
        "model3 = torch.nn.Sequential(linear7, bn5, relu, dropout, \n",
        "                            linear8, bn6, relu, dropout, \n",
        "                            linear9).to(device)"
      ],
      "execution_count": 23,
      "outputs": []
    },
    {
      "cell_type": "code",
      "metadata": {
        "id": "vjUGmmCpzXHB",
        "colab_type": "code",
        "colab": {}
      },
      "source": [
        "criterion = torch.nn.CrossEntropyLoss().to(device)\n",
        "optimizer = torch.optim.Adam(model3.parameters(), lr=learning_rate)"
      ],
      "execution_count": 24,
      "outputs": []
    },
    {
      "cell_type": "code",
      "metadata": {
        "id": "Vj9ZaId6zYgi",
        "colab_type": "code",
        "colab": {
          "base_uri": "https://localhost:8080/",
          "height": 305
        },
        "outputId": "f1514a4c-36a2-41b4-c3e0-2286a5ef603a"
      },
      "source": [
        "model3.train()\n",
        "\n",
        "for epoch in range(training_epochs):\n",
        "    avg_cost = 0\n",
        "\n",
        "    for X,Y in train_loader:\n",
        "        X = X.view(-1, 28*28).to(device)\n",
        "        Y = Y.to(device)\n",
        "        \n",
        "        optimizer.zero_grad()\n",
        "        hypothesis = model3(X)\n",
        "        cost = criterion(hypothesis, Y)\n",
        "        cost.backward()\n",
        "        optimizer.step()\n",
        "        avg_cost += cost/ train_total_batch\n",
        "    \n",
        "    print('Epoch:','%04d' % (epoch+1),'cost=', '{:.9f}'.format(avg_cost))\n",
        "\n",
        "print('Learning finished.')"
      ],
      "execution_count": 25,
      "outputs": [
        {
          "output_type": "stream",
          "text": [
            "Epoch: 0001 cost= 0.464254886\n",
            "Epoch: 0002 cost= 0.325357229\n",
            "Epoch: 0003 cost= 0.278919876\n",
            "Epoch: 0004 cost= 0.267685682\n",
            "Epoch: 0005 cost= 0.257565498\n",
            "Epoch: 0006 cost= 0.245031893\n",
            "Epoch: 0007 cost= 0.228003755\n",
            "Epoch: 0008 cost= 0.230987519\n",
            "Epoch: 0009 cost= 0.215713888\n",
            "Epoch: 0010 cost= 0.217587203\n",
            "Epoch: 0011 cost= 0.214308083\n",
            "Epoch: 0012 cost= 0.203691110\n",
            "Epoch: 0013 cost= 0.202096626\n",
            "Epoch: 0014 cost= 0.201364219\n",
            "Epoch: 0015 cost= 0.192190230\n",
            "Learning finished.\n"
          ],
          "name": "stdout"
        }
      ]
    },
    {
      "cell_type": "code",
      "metadata": {
        "id": "Q7Ed7Fxkzb2d",
        "colab_type": "code",
        "colab": {
          "base_uri": "https://localhost:8080/",
          "height": 163
        },
        "outputId": "21a138f6-b19c-499a-c4f4-cde9a3fd90ee"
      },
      "source": [
        "    model3.eval() #evaluation mode (no dropout)\n",
        "    \n",
        "    X_test = mnist_test.test_data.view(-1, 28 * 28).float().to(device)\n",
        "    Y_test = mnist_test.test_labels.to(device)\n",
        "\n",
        "    prediction = model3(X_test)\n",
        "    \n",
        "    correct_prediction = torch.argmax(prediction, 1) == Y_test \n",
        "    accuracy = correct_prediction.float().mean() \n",
        "    print('Accuracy:', accuracy.item())\n",
        "    \n",
        "    r = random.randint(0, len(mnist_test) - 1) \n",
        "    X_single_data = mnist_test.test_data[r:r + 1].view(-1, 28 * 28).float().to(device)\n",
        "    Y_single_data = mnist_test.test_labels[r:r + 1].to(device)\n",
        "    \n",
        "    print('Label: ', Y_single_data.item())\n",
        "    single_prediction = model3(X_single_data)\n",
        "    print('Prediction: ', torch.argmax(single_prediction, 1).item())"
      ],
      "execution_count": 26,
      "outputs": [
        {
          "output_type": "stream",
          "text": [
            "Accuracy: 0.9004999995231628\n",
            "Label:  2\n",
            "Prediction:  2\n"
          ],
          "name": "stdout"
        },
        {
          "output_type": "stream",
          "text": [
            "/usr/local/lib/python3.6/dist-packages/torchvision/datasets/mnist.py:60: UserWarning: test_data has been renamed data\n",
            "  warnings.warn(\"test_data has been renamed data\")\n",
            "/usr/local/lib/python3.6/dist-packages/torchvision/datasets/mnist.py:50: UserWarning: test_labels has been renamed targets\n",
            "  warnings.warn(\"test_labels has been renamed targets\")\n"
          ],
          "name": "stderr"
        }
      ]
    },
    {
      "cell_type": "markdown",
      "metadata": {
        "id": "rAdv8S0NzjX3",
        "colab_type": "text"
      },
      "source": [
        "accuracy가 증가..?\n",
        "node # optimize 방법: 수연 링크 참조"
      ]
    },
    {
      "cell_type": "code",
      "metadata": {
        "id": "dAiI2pZTziil",
        "colab_type": "code",
        "colab": {}
      },
      "source": [
        ""
      ],
      "execution_count": null,
      "outputs": []
    }
  ]
}